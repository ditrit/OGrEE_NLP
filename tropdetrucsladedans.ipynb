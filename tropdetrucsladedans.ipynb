{
 "cells": [
  {
   "cell_type": "code",
   "execution_count": 312,
   "metadata": {},
   "outputs": [
    {
     "data": {
      "text/plain": [
       "<module 'ogree_wiki' from 'c:\\\\Users\\\\Admin\\\\Documents\\\\IMT Atlantique\\\\UE -Projet Entreprise-\\\\OGrEE_NLP\\\\ogree_wiki.py'>"
      ]
     },
     "execution_count": 312,
     "metadata": {},
     "output_type": "execute_result"
    }
   ],
   "source": [
    "import spacy\n",
    "nlp = spacy.load(\"en_core_web_lg\")\n",
    "\n",
    "import numpy as np\n",
    "import re\n",
    "import importlib\n",
    "import time\n",
    "from typing import Optional\n",
    "\n",
    "import ogree_wiki as wiki\n",
    "importlib.reload(wiki)"
   ]
  },
  {
   "cell_type": "code",
   "execution_count": 341,
   "metadata": {},
   "outputs": [],
   "source": [
    "ACTIONS_DEFAULT = {\n",
    "                    \"ACTION_POSITIVE\" : [\"make\",\"build\",\"put\",\"place\"],\n",
    "                    \"ACTION_NEGATIVE\" : [\"remove\", \"delete\"], \n",
    "                    \"ALTERATION\" : [\"modify\", \"change\",\"move\",\"set\",\"rename\",\"rotate\"]\n",
    "                    }\n",
    "\n",
    "ACTIONS_CLI = {\n",
    "                \"ACTION_POSITIVE\" : \"+\",\n",
    "                \"ACTION_NEGATIVE\" : \"-\"\n",
    "                }\n",
    "\n",
    "SIMILARITY_PARAMETER = 0.5\n",
    "\n",
    "KEY_WORDS_DICT = {\n",
    "            \"name\" : [\"name\",\"called\"],\n",
    "            \"position\" : [\"position\", \"located\",\"centered\"],\n",
    "            \"rotation\" : [\"rotation\",\"turned\",\"degree\"],\n",
    "            \"size\" : [\"size\",\"dimensions\"],\n",
    "            \"template\" : [\"template\"], #TO DO : Rework on template\n",
    "            \"orientation\" : [\"orientation\"],\n",
    "            \"axisOrientation\" : [\"axisOrientation\"],\n",
    "            \"slot\" : [\"slot\"], #same as template\n",
    "            \"color\" : [\"color\"], #Est-ce qu'on rajoute des couleurs genre red, green, grey, ...?\n",
    "            \"unit\" :  [\"unit\"],    # C'est quoi le mieux ? [\"t\",\"m\",\"f\",'metre', \"tilde\", \"feet\"],\n",
    "            \"floorUnit\" : [\"floorUnit\"],\n",
    "            \"side\" : [\"side\"], #Can we just put all the side in this list : it could make our code more resilient\n",
    "            \"temperature\" : [\"temperature\"], #Same here with cold or warm\n",
    "            \"font\" : [\"font\"],\n",
    "            \"attribute\" : [\"attribute\"], #Same as template\n",
    "            \"background\" : [\"background\"],\n",
    "            \"startPosition\" : [\"startPosition\"],\n",
    "            \"endPosition\" : [\"endPosition\"],\n",
    "            \"wall\" : [\"wall\"]\n",
    "          #  \"reserved\" : [\"reserved\"],   \n",
    "           # \"technical\" : [\"technical\"]\n",
    "            }\n"
   ]
  },
  {
   "cell_type": "code",
   "execution_count": 4,
   "metadata": {},
   "outputs": [],
   "source": [
    "def findIndexAction(processed_entry : type(nlp(\"\")), indexAction : int, list_index_entities : list) -> int :\n",
    "    # identify relations for each entity recognized\n",
    "    currentIndexes = list_index_entities[::]\n",
    "    counter = 0\n",
    "    while counter < 3 :\n",
    "        for i in range(len(list_index_entities)) :\n",
    "            currentWord = processed_entry[currentIndexes[i]].head\n",
    "            currentIndexes[i] = list(processed_entry).index(currentWord)\n",
    "        counter += 1\n",
    "\n",
    "    currentIndexesBool = [index == indexAction for index in currentIndexes]\n",
    "    if sum(currentIndexesBool) >= 2 :\n",
    "        currentIndexDistance = [(abs(indexAction - list_index_entities[i]),list_index_entities[i]) for i in range(len(currentIndexes)) if currentIndexesBool[i] == True]\n",
    "        return min(currentIndexDistance)[1]\n",
    "    elif sum(currentIndexesBool) == 1:\n",
    "        return list_index_entities[currentIndexesBool.index(True)]\n",
    "    else :\n",
    "        raise Exception(\"Interpretation issue : no relation found, please try again\")\n"
   ]
  },
  {
   "cell_type": "code",
   "execution_count": 5,
   "metadata": {},
   "outputs": [],
   "source": [
    "def findIndexMainSubject(processed_entry : type(nlp(\"\")), indexAction : int, dictioIndexKeyWords : dict) -> int :\n",
    "\n",
    "    counter = 0\n",
    "    currentIndexes = {index:index for index,parameter in dictioIndexKeyWords.items() if parameter not in ACTIONS_DEFAULT.keys()}\n",
    "    currentWords = {index:processed_entry[index] for index,parameter in dictioIndexKeyWords.items() if parameter not in ACTIONS_DEFAULT.keys()}\n",
    "    while (not indexAction in currentIndexes.values()) and counter < 3 :\n",
    "        currentWords = {originIndex : processed_entry[currentIndex].head for originIndex,currentIndex in currentIndexes.items()}\n",
    "        currentIndexes = {originIndex : list(processed_entry).index(currentWords[originIndex]) for originIndex,_ in currentIndexes.items()}\n",
    "        counter += 1\n",
    "\n",
    "    if counter == 3 :\n",
    "        raise Exception(\"Did not find the main action\")\n",
    "    \n",
    "    if list(currentIndexes.values()).count(indexAction) != 1 :\n",
    "        listIndexesRemaining = [originIndex for originIndex,currentIndex in currentIndexes.items() if currentIndex == indexAction and originIndex > indexAction]\n",
    "        return listIndexesRemaining[0]\n",
    "    else :\n",
    "        return [originIndex for originIndex,currentIndex in currentIndexes.items() if currentIndex == indexAction][0]\n"
   ]
  },
  {
   "cell_type": "code",
   "execution_count": 6,
   "metadata": {},
   "outputs": [],
   "source": [
    "def name(processed_entry : type(nlp(\"\")), dictioEntities : dict, indexesMain : list) -> int :\n",
    "\n",
    "    def findClose(processed_entry : type(nlp(\"\")), index : int) -> (int|None) :\n",
    "        if index +1 <= len(processed_entry)-1 :\n",
    "            if str(processed_entry[index+1]).isupper() or processed_entry[index+1].pos_ == \"PROPN\" :\n",
    "                return index+1\n",
    "        if 0 <= index -1 :\n",
    "            if str(processed_entry[index-1]).isupper() or processed_entry[index-1].pos_ == \"PROPN\" :\n",
    "                return index-1\n",
    "        return None\n",
    "    \n",
    "\n",
    "    def findAttachedEntity(processed_entry : type(nlp(\"\")), index : int) -> (int|None) : \n",
    "        counter = 0\n",
    "        isFound = False\n",
    "        currentIndex = index\n",
    "        currentWord = processed_entry[currentIndex]\n",
    "        while (not isFound) and counter < 3 :\n",
    "            currentWord = processed_entry[currentIndex].head\n",
    "            currentIndex = list(processed_entry).index(currentWord)\n",
    "            if str(currentWord) in dictioEntities.values() :\n",
    "                return currentIndex\n",
    "            if currentWord.pos_ == \"VERB\" and currentIndex == indexesMain[1] : \n",
    "                return indexesMain[0]\n",
    "            counter += 1\n",
    "        return None\n",
    "    \n",
    "    EXPLICIT =  KEY_WORDS_DICT[\"name\"]\n",
    "    IMPLICIT = [\"current\",\"main\"]\n",
    "\n",
    "    dictioEntityNames = {}\n",
    "        \n",
    "    for index,entity in dictioEntities.items() :\n",
    "    # if the name if right beside the entity\n",
    "        resultIndex = findClose(processed_entry, index)\n",
    "        if resultIndex != None :\n",
    "            dictioEntityNames[index] = resultIndex\n",
    "\n",
    "    if len(dictioEntityNames) < len(dictioEntities) : # if not all names found\n",
    "\n",
    "        for index,token in enumerate(processed_entry) : # look for keyword\n",
    "\n",
    "            if str(processed_entry[index]).isupper() or processed_entry[index].pos_ == \"PROPN\" :\n",
    "                indexAttachedEntity = findAttachedEntity(processed_entry,index)\n",
    "                if not (indexAttachedEntity in dictioEntityNames or indexAttachedEntity == None) :\n",
    "                    dictioEntityNames[indexAttachedEntity] = index\n",
    "            \n",
    "            # if the token is a synonym of called\n",
    "            if sum([token.similarity(nlp(word)[0]) > SIMILARITY_PARAMETER for word in EXPLICIT]) >= 1 :\n",
    "                resultIndex = findClose(processed_entry, index)\n",
    "                if resultIndex != None :\n",
    "                    indexAttachedEntity = findAttachedEntity(processed_entry,index)\n",
    "                    if not (indexAttachedEntity in dictioEntityNames or indexAttachedEntity == None) :\n",
    "                        dictioEntityNames[indexAttachedEntity] = resultIndex\n",
    "\n",
    "\n",
    "    if len(dictioEntityNames) < len(dictioEntities) : # if still not all names found\n",
    "        pass\n",
    "    # TODO : get current names\n",
    "\n",
    "    # TODO : check for implicit words now\n",
    "    \n",
    "    return dictioEntityNames"
   ]
  },
  {
   "cell_type": "code",
   "execution_count": 40,
   "metadata": {},
   "outputs": [],
   "source": [
    "def position(processed_entry : type(nlp(\"\")), index : int, lastKeyWordIndex : int, nextKeyWordIndex : int,entity = \"\") -> Optional[list] :\n",
    "    # search for keywords to the right and left to split whole sentence into parts where to look for param entries\n",
    "    \n",
    "    next_words = processed_entry[index+1:nextKeyWordIndex]\n",
    "    last_words = processed_entry[lastKeyWordIndex:index]\n",
    "    position_list = re.findall(\"[-]*[0-9]+[.]*[0-9]*\", \" \".join([str(token) for token in next_words]))\n",
    "    if not (len(position_list) == 2 or (len(position_list) == 3 and entity == \"rack\") or (len(position_list) ==1 and entity ==\"device\")):\n",
    "        position_list_left = re.findall(\"[-]*[0-9]+[.]*[0-9]*\", \" \".join([str(token) for token in last_words]))\n",
    "        if not (len(position_list) == 2 or (len(position_list) == 3 and entity == \"rack\")) :\n",
    "            raise Exception(\"Wrong location format entered\")\n",
    "        else :\n",
    "            position_list = position_list_left\n",
    "    result = [float(coord) for coord in position_list] if position_list else None\n",
    "    return result[0] if entity == \"device\" else result"
   ]
  },
  {
   "cell_type": "code",
   "execution_count": 44,
   "metadata": {},
   "outputs": [
    {
     "name": "stdout",
     "output_type": "stream",
     "text": [
      "[10.0, 10.0]\n"
     ]
    }
   ],
   "source": [
    "text = nlp(\"build a device named RACK1 at the postion 10 10 \")\n",
    "print(position(text,7,0,len(text),\"\"))"
   ]
  },
  {
   "cell_type": "code",
   "execution_count": 9,
   "metadata": {},
   "outputs": [],
   "source": [
    "def axisOrientation(processed_entry : type(nlp(\"\")), index : int, lastKeyWordIndex : int, nextKeyWordIndex : int,entity=\"\") -> Optional[list] :\n",
    "    # We search the axis Orientation\n",
    "    #We slit the sentence in two parts\n",
    "    next_words = processed_entry[index+1:nextKeyWordIndex]\n",
    "    last_words = processed_entry[lastKeyWordIndex:index]\n",
    "    #An axis Orientation  can be any combinason of [+/-]x[+/-]y. eg: +x+y or -x+y\n",
    "    print(\" \".join([str(token) for token in next_words]))\n",
    "    axisOrientationList =  re.findall(\" (-x|\\+[ *]x)[ *](-y|\\+[ *]y)\", \" \".join([str(token) for token in next_words]))\n",
    "    #If we didn't find an axis orientation, we need to seek it in the second part of the sentence\n",
    "    if len(axisOrientationList) ==0 :\n",
    "        axisOrientationList = re.findall(\"(-x|\\+[ *]x)[ *](-y|\\+[ *]y)\", \" \".join([str(token) for token in last_words]))\n",
    "        #If we still didn't find it, we need to raise an error\n",
    "        if len(axisOrientationList) ==0 :\n",
    "            raise Exception(\"Wrong axisOrientation format entered\")\n",
    "    \n",
    "    #We need to raise an error if we find only one coordonate\n",
    "    if len(axisOrientationList[0]) < 2:\n",
    "        raise Exception(\"Only one coordinate was found\")\n",
    "    #Even if several axis Orientations where found, we always take the first one\n",
    "    return axisOrientationList[0][0].replace(\" \", \"\") + axisOrientationList[0][1].replace(\" \", \"\")\n"
   ]
  },
  {
   "cell_type": "code",
   "execution_count": 55,
   "metadata": {},
   "outputs": [],
   "source": [
    "def unit(processed_entry : type(nlp(\"\")), index : int, lastKeyWordIndex : int, nextKeyWordIndex : int,entity=\"\") -> Optional[list] :\n",
    "    #This function help us to find the unit of the floor\n",
    "    #We slit the sentence in two parts\n",
    "    next_words = processed_entry[index+1:nextKeyWordIndex]\n",
    "    last_words = processed_entry[lastKeyWordIndex:index]\n",
    "    #An unit can be m, t , f, meters, tildes, feets\n",
    "    unitList = re.findall(r'\\bt\\b|\\bf\\b|\\bm\\b|\\bu\\b',\" \".join([str(token) for token in next_words]))\n",
    "    unitList += re.findall(\"metre|feet|tilde|unit\",\" \".join([str(token) for token in next_words]))\n",
    "    #If we didn't find any unit, we need to seek it in the second part of the sentence\n",
    "    if len(unitList) ==0:\n",
    "        unitList = re.findall(r'\\bt\\b|\\bf\\b|\\bm\\b|\\bu\\b',\" \".join([str(token) for token in last_words]))\n",
    "        unitList += re.findall(\"metre|feet|tilde|unit\",\" \".join([str(token) for token in last_words]))\n",
    "        \n",
    "        #We should have found an unit\n",
    "        if len(unitList) == 0:\n",
    "            raise Exception(\"There wasn't any unit in the sentence\")\n",
    "    \n",
    "    #If there are many unit, we choose the first one\n",
    "    finalUnit = unitList[0]\n",
    "    match unitList[0]:\n",
    "        case \"metre\":\n",
    "            finalUnit = \"m\"\n",
    "        case \"tilde\":\n",
    "            finalUnit = \"t\"\n",
    "        case \"feet\":\n",
    "            finalUnit = \"f\"\n",
    "        case \"unit\":\n",
    "            finalUnit =\"u\"\n",
    "    return finalUnit"
   ]
  },
  {
   "cell_type": "code",
   "execution_count": 56,
   "metadata": {},
   "outputs": [
    {
     "name": "stdout",
     "output_type": "stream",
     "text": [
      "f\n"
     ]
    }
   ],
   "source": [
    "test = nlp(\"Create a room in f\")\n",
    "print(unit(test,3,0,len(test)))"
   ]
  },
  {
   "cell_type": "code",
   "execution_count": 188,
   "metadata": {},
   "outputs": [],
   "source": [
    "def color(processed_entry : type(nlp(\"\")), index : int, lastKeyWordIndex : int, nextKeyWordIndex : int,entity=\"\") -> Optional[list] :\n",
    "    #This function seek the hexadecimal color next to the word color (or one of its synonym)\n",
    "    #We slit the sentence in two parts\n",
    "    next_words = processed_entry[index+1:nextKeyWordIndex]\n",
    "    last_words = processed_entry[lastKeyWordIndex:index]\n",
    "    #A color should be in hexadecimal ==> MAYBE A NAME LATER ??\n",
    "    colorList = re.findall(r'#[ *][A-Z0-9a-z]{6}\\b',\" \".join([str(token) for token in next_words]))\n",
    "\n",
    "    #If we didn't find a color after the word color, we need to look before\n",
    "    if len(colorList) ==0:\n",
    "        colorList = re.findall(r'#[ *][A-Z0-9a-z]{6}\\b',\" \".join([str(token) for token in last_words]))\n",
    "\n",
    "        #If there isn't any color, we need to raise an execption\n",
    "        if len(colorList) == 0: \n",
    "            raise Exception(\"There wasn't any color\")\n",
    "        \n",
    "    #If there are several colors, we choose the first one\n",
    "    return colorList[0].replace(\" \", \"\")"
   ]
  },
  {
   "cell_type": "code",
   "execution_count": 233,
   "metadata": {},
   "outputs": [],
   "source": [
    "def font(processed_entry : type(nlp(\"\")), index : int, lastKeyWordIndex : int, nextKeyWordIndex : int,entity=\"\") ->  Optional[list] :\n",
    "    #This function find the font of a label.\n",
    "    #We slit the sentence in two parts\n",
    "    next_words = processed_entry[index+1:nextKeyWordIndex]\n",
    "    last_words = processed_entry[lastKeyWordIndex:index]\n",
    "    print(\"next_word : \", next_words)\n",
    "    findList = re.findall(r'#[ *][A-Z0-9a-z]{6}\\b',\" \".join([str(token) for token in next_words]))\n",
    "    findList += re.findall('italic|bold',\" \".join([str(token) for token in next_words]))\n",
    "    if len(findList) == 0:\n",
    "        findList = re.findall(r'#[ *][A-Z0-9a-z]{6}\\b',\" \".join([str(token) for token in last_words]))\n",
    "        findList += re.findall('italic | bold',\" \".join([str(token) for token in last_words]))\n",
    "        if len(findList) == 0: \n",
    "            raise Exception(\"There wasn't any argument\")\n",
    "    \n",
    "    #We return the list of the argument associate to the font\n",
    "    return findList\n"
   ]
  },
  {
   "cell_type": "code",
   "execution_count": 234,
   "metadata": {},
   "outputs": [
    {
     "name": "stdout",
     "output_type": "stream",
     "text": [
      "next_word :  #154741 and in bold\n",
      "['# 154741', 'bold']\n"
     ]
    }
   ],
   "source": [
    "test = nlp(\"create a label with a font #154741 and in bold\")\n",
    "print(font(test,5,0,len(test)))"
   ]
  },
  {
   "cell_type": "code",
   "execution_count": 201,
   "metadata": {},
   "outputs": [],
   "source": [
    "def background(processed_entry : type(nlp(\"\")), index : int, lastKeyWordIndex : int, nextKeyWordIndex : int,entity=\"\") ->  Optional[list] :\n",
    "    #This function find the color of the background with the help of the function color\n",
    "    return color(processed_entry,index,lastKeyWordIndex,nextKeyWordIndex,entity=\"\")"
   ]
  },
  {
   "cell_type": "code",
   "execution_count": 288,
   "metadata": {},
   "outputs": [],
   "source": [
    "def slot(processed_entry : type(nlp(\"\")), index : int, lastKeyWordIndex : int, nextKeyWordIndex : int,entity=\"\") ->  Optional[list] :\n",
    "    #The code for slot is the same as template --> Works well if the name is at the rigt of template and if there is a verb like called, named,...\n",
    "    return template(processed_entry, index, lastKeyWordIndex,nextKeyWordIndex,entity)"
   ]
  },
  {
   "cell_type": "code",
   "execution_count": 289,
   "metadata": {},
   "outputs": [],
   "source": [
    "def attribute(processed_entry : type(nlp(\"\")), index : int, lastKeyWordIndex : int, nextKeyWordIndex : int,entity=\"\") ->  Optional[list] :\n",
    "    #The code for attribute is the same as template --> Works well if the name is at the rigt of template and if there is a verb like called, named,...\n",
    "    return template(processed_entry, index, lastKeyWordIndex,nextKeyWordIndex,entity)"
   ]
  },
  {
   "cell_type": "code",
   "execution_count": 228,
   "metadata": {},
   "outputs": [],
   "source": [
    "def startPosition(processed_entry : type(nlp(\"\")), index : int, lastKeyWordIndex : int, nextKeyWordIndex : int,entity = \"\") -> Optional[list] :\n",
    "    # search for keywords to the right and left to split whole sentence into parts where to look for param entries\n",
    "    \n",
    "    next_words = processed_entry[index+1:nextKeyWordIndex]\n",
    "    last_words = processed_entry[lastKeyWordIndex:index]\n",
    "    position_list = re.findall(\"[-]*[0-9]+[.]*[0-9]*\", \" \".join([str(token) for token in next_words]))\n",
    "    #A separator has always x y as startPosition\n",
    "    if len(position_list) > 2:\n",
    "        #We found the startPosition but also the position of another entity. Ex : startPos 10 25 and 10 87 as endPos\n",
    "        #Here position_list == [10,25,10,87] ==> We must only take the 2 first cordonates\n",
    "        position_list = [position_list[0],position_list[1]]\n",
    "    \n",
    "    if not len(position_list) == 2:\n",
    "        position_list_left = re.findall(\"[-]*[0-9]+[.]*[0-9]*\", \" \".join([str(token) for token in last_words]))\n",
    "        #Same here\n",
    "        if len(position_list_left) > 2:\n",
    "            position_list_left = [position_list_left[-2],position_list_left[-1]]\n",
    "        if not (len(position_list_left) == 2) :\n",
    "            raise Exception(\"Wrong location format entered\")\n",
    "        else :\n",
    "            position_list = position_list_left\n",
    "    result = [float(coord) for coord in position_list] if position_list else None\n",
    "    return result"
   ]
  },
  {
   "cell_type": "code",
   "execution_count": 242,
   "metadata": {},
   "outputs": [],
   "source": [
    "def endPosition(processed_entry : type(nlp(\"\")), index : int, lastKeyWordIndex : int, nextKeyWordIndex : int,entity = \"\") -> Optional[list] :\n",
    "    return startPosition(processed_entry,index,lastKeyWordIndex,nextKeyWordIndex)"
   ]
  },
  {
   "cell_type": "code",
   "execution_count": 271,
   "metadata": {},
   "outputs": [],
   "source": [
    "def wall(processed_entry : type(nlp(\"\")), index : int, lastKeyWordIndex : int, nextKeyWordIndex : int,entity = \"\") -> Optional[list] :\n",
    "    #This function find the type of wall of the separator.\n",
    "    #We slit the sentence in two parts\n",
    "    next_words = processed_entry[index+1:nextKeyWordIndex]\n",
    "    last_words = processed_entry[lastKeyWordIndex:index]\n",
    "    print(\"wall : \", next_words)\n",
    "    findList = re.findall('wireframe|plain',\" \".join([str(token) for token in next_words]))\n",
    "    if len(findList) == 0:\n",
    "        findList += re.findall('wireframe|plain',\" \".join([str(token) for token in last_words]))\n",
    "        if len(findList) == 0: \n",
    "            raise Exception(\"There wasn't any argument\")\n",
    "    \n",
    "    #We return the list of the argument associate to the font\n",
    "    return findList[0]"
   ]
  },
  {
   "cell_type": "code",
   "execution_count": 277,
   "metadata": {},
   "outputs": [
    {
     "name": "stdout",
     "output_type": "stream",
     "text": [
      "wall :  startPosition and a wall in wireframe\n",
      "wireframe\n"
     ]
    }
   ],
   "source": [
    "test = nlp(\"create a separator with a endPosition of 0 10 and 15 47 as startPosition and a wall in wireframe \")\n",
    "print(wall(test,12,0,len(test)))"
   ]
  },
  {
   "cell_type": "code",
   "execution_count": 244,
   "metadata": {},
   "outputs": [
    {
     "name": "stdout",
     "output_type": "stream",
     "text": [
      "[15.0, 47.0]\n",
      "[0.0, 10.0]\n"
     ]
    }
   ],
   "source": [
    "test = nlp(\"create a separator with a endPosition of 0 10 and 15 47 as startPosition\")\n",
    "print(startPosition(test,len(test),0,len(test)))\n",
    "test = nlp(\"create a separator with a endPosition of 0 10 and 15 47 as startPosition\")\n",
    "print(endPosition(test,4,0,len(test)))"
   ]
  },
  {
   "cell_type": "code",
   "execution_count": 204,
   "metadata": {},
   "outputs": [
    {
     "name": "stdout",
     "output_type": "stream",
     "text": [
      "background :  #ABCdEF\n"
     ]
    }
   ],
   "source": [
    "test = nlp(\"create a label with a background in #ABCdEF\")\n",
    "print(\"background : \", background(test,5,0,len(test)))"
   ]
  },
  {
   "cell_type": "code",
   "execution_count": 11,
   "metadata": {},
   "outputs": [],
   "source": [
    "def temperature(processed_entry : type(nlp(\"\")), index : int, lastKeyWordIndex : int, nextKeyWordIndex : int,entity=\"\") -> Optional[list] :\n",
    "    #This function helps to find if its cold or warm\n",
    "    #We slit the sentence in two parts\n",
    "    next_words = processed_entry[index+1:nextKeyWordIndex]\n",
    "    last_words = processed_entry[lastKeyWordIndex:index]\n",
    "    \n",
    "    #A temperature is either cold or warm \n",
    "    tempList = re.findall(\"cold|warm\", \" \".join([str(token) for token in next_words]))\n",
    "    \n",
    "    #If we didn't find it after the word temperature, we need to seek before\n",
    "    if len(tempList) ==0:\n",
    "        tempList = re.findall(\"cold|warm\", \" \".join([str(token) for token in last_words]))\n",
    "\n",
    "        #If neither cold or warm was found we need to raise an Exception\n",
    "        if len(tempList) == 0:\n",
    "            raise Exception(\"Neither cold or warm was found in the sentence\")\n",
    "\n",
    "    #If there are several temperature, we choose the first one\n",
    "    return tempList[0]\n",
    "    \n"
   ]
  },
  {
   "cell_type": "code",
   "execution_count": 12,
   "metadata": {},
   "outputs": [],
   "source": [
    "def side(processed_entry : type(nlp(\"\")), index : int, lastKeyWordIndex : int, nextKeyWordIndex : int,entity=\"\") -> Optional[list] :\n",
    "    #We slit the sentence in two parts\n",
    "    next_words = processed_entry[index+1:nextKeyWordIndex]\n",
    "    last_words = processed_entry[lastKeyWordIndex:index]\n",
    "\n",
    "    #A side is either front, rear, frontflipped,rearflipped \n",
    "    sideList = re.findall(\"front | rear | frontflipped | rearflipped\", \" \".join([str(token) for token in next_words]))\n",
    "    #if a side was not found after the word, we need to seek after\n",
    "    if len(sideList) == 0:\n",
    "        sideList = re.findall(\"front | rear | frontflipped | rearflipped\", \" \".join([str(token) for token in last_words]))\n",
    "\n",
    "        #If the side wasn't after the word side, there is an error\n",
    "        if len(sideList) == 0: \n",
    "            raise Exception( \"there wasn't any side in the sentence\")\n",
    "\n",
    "    #If there are several sides, we take the first one\n",
    "    return sideList[0].replace(\" \",\"\")\n"
   ]
  },
  {
   "cell_type": "code",
   "execution_count": 13,
   "metadata": {},
   "outputs": [],
   "source": [
    "def floorUnit(processed_entry : type(nlp(\"\")), index : int, lastKeyWordIndex : int, nextKeyWordIndex : int,entity=\"\") -> Optional[list] :\n",
    "    un =unit(processed_entry, index, lastKeyWordIndex, nextKeyWordIndex)\n",
    "    if un.replace(\" \", \"\") == \"u\":\n",
    "        raise Exception (\"A floor Unit can't have u as unit\")\n",
    "    return un "
   ]
  },
  {
   "cell_type": "code",
   "execution_count": 14,
   "metadata": {},
   "outputs": [],
   "source": [
    "def slot(processed_entry : type(nlp(\"\")), index : int, lastKeyWordIndex : int, nextKeyWordIndex : int,entity=\"\") -> Optional[list] :\n",
    "    #Find a slot is equivalent at finding a name, the slot name\n",
    "    pass\n",
    "    "
   ]
  },
  {
   "cell_type": "code",
   "execution_count": 140,
   "metadata": {},
   "outputs": [
    {
     "name": "stdout",
     "output_type": "stream",
     "text": [
      "a room called ROOM1 with a   temperature warm with an orientation of -x -y   in u with # abD874 # ABDDDD as color with rear as side\n",
      "axisOrientation :  -x-y\n",
      "Unit :  u\n",
      "next_words ABDDDD as color with rear as side\n",
      "last_words create a room called ROOM1 with a  temperature warm with an orientation of -x -y  in u with #abD874\n",
      "Color :  #abD874\n",
      "Temperature warm\n",
      "Side :  rear\n"
     ]
    }
   ],
   "source": [
    "testNlp = nlp(\"create a room called ROOM1 with a  temperature warm with an orientation of -x -y  in u with #abD874 #ABDDDD as color with rear as side   \")\n",
    "\n",
    "print(\"axisOrientation : \", axisOrientation(testNlp, 0,0,len(testNlp) -1).replace(\" \", \"\"))\n",
    "print(\"Unit : \", unit(testNlp,0,0,len(testNlp) -1))\n",
    "print(\"Color : \", color(testNlp,22,0,len(testNlp) -1))\n",
    "print(\"Temperature\", temperature(testNlp,12,0,len(testNlp) -1))\n",
    "print(\"Side : \", side(testNlp, 20,0,len(testNlp) -1) )"
   ]
  },
  {
   "cell_type": "code",
   "execution_count": 332,
   "metadata": {},
   "outputs": [],
   "source": [
    "def orientation(processed_entry : type(nlp(\"\")), index : int, lastKeyWordIndex : int, nextKeyWordIndex : int, entity=\"\") -> Optional[float] :\n",
    "    next_words = processed_entry[index+1:nextKeyWordIndex]\n",
    "    last_words = processed_entry[lastKeyWordIndex:index]\n",
    "    orientation_list = re.findall(\"N|S|W|E|NW|NE|SW|SE|ESE|WNW|NNW|NNE|ENE|WSW|SSW|SSE\", \" \".join([str(token) for token in next_words]))\n",
    "    if not len(orientation_list) == 1:\n",
    "        orientation_list = re.findall(\"N|S|W|E|NW|NE|SW|SE|ESE|WNW|NNW|NNE|ENE|WSW|SSW|SSE\", \" \".join([str(token) for token in last_words]))\n",
    "        if not len(orientation_list) == 1:\n",
    "            raise Exception(\"None orientation was found\")\n",
    "    \n",
    "    return orientation_list[0]"
   ]
  },
  {
   "cell_type": "code",
   "execution_count": 331,
   "metadata": {},
   "outputs": [],
   "source": [
    "def rotation(processed_entry : type(nlp(\"\")), index : int, lastKeyWordIndex : int, nextKeyWordIndex : int, entity=\"\") -> Optional[float] :\n",
    "    next_words = processed_entry[index+1:nextKeyWordIndex]\n",
    "    last_words = processed_entry[lastKeyWordIndex:index]\n",
    "    \n",
    "    isRotationNegative = False\n",
    "\n",
    "    rotation_list = re.findall(\"([-]*[0-9]+[.]*[0-9]*){1,3}\", \" \".join([str(token) for token in next_words]))\n",
    "    isRotationNegative = re.search(\"counter.*clockwise\", \"\".join([str(token) for token in next_words]))\n",
    "    if not len(rotation_list) == 1 and not len(rotation_list) == 3 :\n",
    "        rotation_list_left = re.findall(\"[-]*[0-9]+[.]*[0-9]*\", \" \".join([str(token) for token in last_words]))\n",
    "        isRotationNegative = re.search(\"counter.*clockwise\", \"\".join([str(token) for token in next_words]))\n",
    "        if not len(rotation_list_left) == 1 :\n",
    "            raise Exception(\"Wrong rotation format entered\")\n",
    "        else :\n",
    "            rotation_list = rotation_list_left\n",
    "    rotation_list = [float(token) for token in rotation_list]\n",
    "    if (entity == \"rack\" or entity == \"corridor\") and len(rotation_list) !=3:\n",
    "        raise Exception(\"The rotation of a rack or a corridor should have a size 3\")\n",
    "    if entity != \"rack\" and entity !=\"corridor\" and len(rotation_list) !=1:\n",
    "        raise Exception(\"Should have only 1 argument for size\")\n",
    "    rotationFinal = rotation_list[0] if len(rotation_list) == 1 else rotation_list\n",
    "    rotationFinal = -rotationFinal if isRotationNegative else rotationFinal\n",
    "    return rotationFinal"
   ]
  },
  {
   "cell_type": "code",
   "execution_count": 73,
   "metadata": {},
   "outputs": [
    {
     "name": "stdout",
     "output_type": "stream",
     "text": [
      "next_word :  rotation of 90 90 90\n",
      "rotation_list :  ['90', '90', '90']\n",
      "[90.0, 90.0, 90.0]\n"
     ]
    }
   ],
   "source": [
    "text = nlp(\"create a corridor with a rotation of 90 90 90\")\n",
    "print(rotation(text,4,0,len(text),\"corridor\"))"
   ]
  },
  {
   "cell_type": "code",
   "execution_count": 356,
   "metadata": {},
   "outputs": [],
   "source": [
    "def size(processed_entry : type(nlp(\"\")), index : int, lastKeyWordIndex : int, nextKeyWordIndex : int, entity=\"\") -> Optional[list] :\n",
    "    #it only works for regular size not sizeXY or sizeU\n",
    "    next_words = processed_entry[index+1:nextKeyWordIndex]\n",
    "    last_words = processed_entry[lastKeyWordIndex:index]\n",
    "\n",
    "    size_list = re.findall(\"[-]*[0-9]+[.]*[0-9]*\", \" \".join([str(token) for token in next_words]))\n",
    "    print(size_list)\n",
    "    if not (len(size_list) == 3) and not( entity ==\"pillar\" and len(size_list) == 2 ) and not(len(size_list)==1 and entity == \"device\"):\n",
    "        size_list_left = re.findall(\"[-]*[0-9]+[.]*[0-9]*\", \" \".join([str(token) for token in last_words]))\n",
    "        if not (len(size_list) == 3) and not( entity ==\"pillar\" and len(size_list) == 2 ) and not(len(size_list)==1 and entity == \"device\"):\n",
    "            raise Exception(\"Wrong location format entered\")\n",
    "        else :\n",
    "            size_list = size_list_left\n",
    "    result = [float(coord) for coord in size_list] if size_list else None\n",
    "    return result[0] if entity == \"device\" else result"
   ]
  },
  {
   "cell_type": "code",
   "execution_count": 357,
   "metadata": {},
   "outputs": [
    {
     "name": "stdout",
     "output_type": "stream",
     "text": [
      "['0', '0']\n",
      "Size  :  [0.0, 0.0]\n"
     ]
    }
   ],
   "source": [
    "text = nlp(\"create the pillar with 0 0  as size\")\n",
    "print(\"Size  : \", size(text, 0,0,len(text)-1,\"pillar\"))"
   ]
  },
  {
   "cell_type": "code",
   "execution_count": 215,
   "metadata": {},
   "outputs": [],
   "source": [
    "def template(processed_entry : type(nlp(\"\")), index : int, lastKeyWordIndex : int, nextKeyWordIndex : int, entity=\"\") -> Optional[str] :\n",
    "    #The template is the defined by a name, it's the same structure as for Name() but simplified since there is less convuloted wording\n",
    "    #Works well if the name is at the right of the word template and if called, named, ... is used\n",
    "    def findClose(indexToken : int) -> Optional[int] :\n",
    "        if indexToken +1 <= len(processed_entry)-1 :\n",
    "            if str(processed_entry[indexToken+1]).isupper() or processed_entry[indexToken+1].pos_ == \"PROPN\" :\n",
    "                return indexToken+1\n",
    "        if 0 <= indexToken -1 :\n",
    "            if str(processed_entry[indexToken-1]).isupper() or processed_entry[indexToken-1].pos_ == \"PROPN\" :\n",
    "                return indexToken-1\n",
    "        return None\n",
    "\n",
    "    def findAttachedEntity(indexToken : int) -> (bool) : \n",
    "        counter = 0\n",
    "        isFound = False\n",
    "        currentIndex = indexToken\n",
    "        currentWord = processed_entry[currentIndex]\n",
    "        while (not isFound) and counter < 3 :\n",
    "            currentWord = processed_entry[currentIndex].head\n",
    "            currentIndex = list(processed_entry).index(currentWord)\n",
    "            if str(currentWord) in KEY_WORDS_DICT[\"template\"] : #Peux être faut il passer aux Lemma ?\n",
    "                return True\n",
    "            counter += 1\n",
    "        return False\n",
    "    \n",
    "    EXPLICIT =  KEY_WORDS_DICT[\"name\"]\n",
    "\n",
    "    # if the name if right beside the entity\n",
    "    resultIndex = findClose(index)\n",
    "    if resultIndex != None :\n",
    "        return processed_entry[resultIndex]\n",
    "    else: #look in the NProp if one is linked to Template\n",
    "        for indexTemp,tokenTemp in enumerate(processed_entry) : # look for keyword\n",
    "            if str(processed_entry[indexTemp]).isupper() or processed_entry[indexTemp].pos_ == \"PROPN\" :\n",
    "                indexAttachedEntity = findAttachedEntity(indexTemp)\n",
    "                if findAttachedEntity(indexTemp) :\n",
    "                    return tokenTemp\n",
    "            \n",
    "            \"\"\"\n",
    "            # if the token is a synonym of called\n",
    "            if sum([tokenTemp.similarity(nlp(word)[0]) > SIMILARITY_PARAMETER for word in EXPLICIT]) >= 1 :\n",
    "                resultIndex = findClose(indexTemp)\n",
    "                if resultIndex != None :\n",
    "                    indexAttachedEntity = findAttachedEntity(indexTemp)\n",
    "                    if indexAttachedEntity != None :\n",
    "                        resultIndex = indexAttachedEntity\n",
    "                else {\n",
    "                    return resultIndex\n",
    "                }\n",
    "            \"\"\"\n",
    "\n",
    "    return None"
   ]
  },
  {
   "cell_type": "code",
   "execution_count": 214,
   "metadata": {},
   "outputs": [
    {
     "name": "stdout",
     "output_type": "stream",
     "text": [
      "FUCKER\n"
     ]
    }
   ],
   "source": [
    "test = nlp(\"Create a room with a template called FUCKER\")\n",
    "\n",
    "print(template(test,2,2,len(test)))"
   ]
  },
  {
   "cell_type": "code",
   "execution_count": 24,
   "metadata": {},
   "outputs": [
    {
     "name": "stdout",
     "output_type": "stream",
     "text": [
      "Collecting textblob\n",
      "  Downloading textblob-0.17.1-py2.py3-none-any.whl (636 kB)\n",
      "     ---------------------------------------- 0.0/636.8 kB ? eta -:--:--\n",
      "     ----- --------------------------------- 92.2/636.8 kB 1.8 MB/s eta 0:00:01\n",
      "     --------- ---------------------------- 163.8/636.8 kB 2.0 MB/s eta 0:00:01\n",
      "     ---------------- --------------------- 276.5/636.8 kB 2.1 MB/s eta 0:00:01\n",
      "     ------------------------- ------------ 419.8/636.8 kB 2.0 MB/s eta 0:00:01\n",
      "     ----------------------------- -------- 491.5/636.8 kB 2.2 MB/s eta 0:00:01\n",
      "     -------------------------------------  634.9/636.8 kB 2.2 MB/s eta 0:00:01\n",
      "     -------------------------------------- 636.8/636.8 kB 2.1 MB/s eta 0:00:00\n",
      "Collecting nltk>=3.1 (from textblob)\n",
      "  Downloading nltk-3.8.1-py3-none-any.whl (1.5 MB)\n",
      "     ---------------------------------------- 0.0/1.5 MB ? eta -:--:--\n",
      "     ---- ----------------------------------- 0.2/1.5 MB 3.5 MB/s eta 0:00:01\n",
      "     ------- -------------------------------- 0.3/1.5 MB 3.5 MB/s eta 0:00:01\n",
      "     --------- ------------------------------ 0.4/1.5 MB 2.9 MB/s eta 0:00:01\n",
      "     ------------- -------------------------- 0.5/1.5 MB 3.0 MB/s eta 0:00:01\n",
      "     --------------- ------------------------ 0.6/1.5 MB 2.6 MB/s eta 0:00:01\n",
      "     ------------------ --------------------- 0.7/1.5 MB 2.8 MB/s eta 0:00:01\n",
      "     ------------------ --------------------- 0.7/1.5 MB 2.8 MB/s eta 0:00:01\n",
      "     ------------------ --------------------- 0.7/1.5 MB 2.8 MB/s eta 0:00:01\n",
      "     --------------------- ------------------ 0.8/1.5 MB 2.1 MB/s eta 0:00:01\n",
      "     ---------------------------- ----------- 1.1/1.5 MB 2.2 MB/s eta 0:00:01\n",
      "     ---------------------------- ----------- 1.1/1.5 MB 2.1 MB/s eta 0:00:01\n",
      "     ------------------------------- -------- 1.2/1.5 MB 1.9 MB/s eta 0:00:01\n",
      "     ----------------------------------- ---- 1.3/1.5 MB 1.9 MB/s eta 0:00:01\n",
      "     ------------------------------------- -- 1.4/1.5 MB 1.9 MB/s eta 0:00:01\n",
      "     ---------------------------------------  1.5/1.5 MB 1.8 MB/s eta 0:00:01\n",
      "     ---------------------------------------  1.5/1.5 MB 1.8 MB/s eta 0:00:01\n",
      "     ---------------------------------------- 1.5/1.5 MB 1.5 MB/s eta 0:00:00\n",
      "Requirement already satisfied: click in c:\\users\\admin\\appdata\\local\\packages\\pythonsoftwarefoundation.python.3.11_qbz5n2kfra8p0\\localcache\\local-packages\\python311\\site-packages (from nltk>=3.1->textblob) (8.1.7)\n",
      "Collecting joblib (from nltk>=3.1->textblob)\n",
      "  Obtaining dependency information for joblib from https://files.pythonhosted.org/packages/10/40/d551139c85db202f1f384ba8bcf96aca2f329440a844f924c8a0040b6d02/joblib-1.3.2-py3-none-any.whl.metadata\n",
      "  Downloading joblib-1.3.2-py3-none-any.whl.metadata (5.4 kB)\n",
      "Requirement already satisfied: regex>=2021.8.3 in c:\\users\\admin\\appdata\\local\\packages\\pythonsoftwarefoundation.python.3.11_qbz5n2kfra8p0\\localcache\\local-packages\\python311\\site-packages (from nltk>=3.1->textblob) (2023.10.3)\n",
      "Requirement already satisfied: tqdm in c:\\users\\admin\\appdata\\local\\packages\\pythonsoftwarefoundation.python.3.11_qbz5n2kfra8p0\\localcache\\local-packages\\python311\\site-packages (from nltk>=3.1->textblob) (4.66.1)\n",
      "Requirement already satisfied: colorama in c:\\users\\admin\\appdata\\local\\packages\\pythonsoftwarefoundation.python.3.11_qbz5n2kfra8p0\\localcache\\local-packages\\python311\\site-packages (from click->nltk>=3.1->textblob) (0.4.6)\n",
      "Downloading joblib-1.3.2-py3-none-any.whl (302 kB)\n",
      "   ---------------------------------------- 0.0/302.2 kB ? eta -:--:--\n",
      "   ----- ---------------------------------- 41.0/302.2 kB 2.0 MB/s eta 0:00:01\n",
      "   -------- ------------------------------- 61.4/302.2 kB 1.7 MB/s eta 0:00:01\n",
      "   ---------------- ----------------------- 122.9/302.2 kB 1.0 MB/s eta 0:00:01\n",
      "   ------------------ ------------------- 143.4/302.2 kB 853.3 kB/s eta 0:00:01\n",
      "   ------------------------- ------------ 204.8/302.2 kB 958.4 kB/s eta 0:00:01\n",
      "   ----------------------------- -------- 235.5/302.2 kB 962.7 kB/s eta 0:00:01\n",
      "   -------------------------------------- 302.2/302.2 kB 986.4 kB/s eta 0:00:00\n",
      "Installing collected packages: joblib, nltk, textblob\n",
      "Successfully installed joblib-1.3.2 nltk-3.8.1 textblob-0.17.1\n",
      "Note: you may need to restart the kernel to use updated packages.\n"
     ]
    },
    {
     "name": "stderr",
     "output_type": "stream",
     "text": [
      "\n",
      "[notice] A new release of pip is available: 23.2.1 -> 23.3.1\n",
      "[notice] To update, run: C:\\Users\\Admin\\AppData\\Local\\Microsoft\\WindowsApps\\PythonSoftwareFoundation.Python.3.11_qbz5n2kfra8p0\\python.exe -m pip install --upgrade pip\n"
     ]
    }
   ],
   "source": [
    "pip install textblob"
   ]
  },
  {
   "cell_type": "code",
   "execution_count": 36,
   "metadata": {},
   "outputs": [
    {
     "name": "stdout",
     "output_type": "stream",
     "text": [
      "original text: cmputr\n",
      "corrected text: computer\n",
      "Old word :  crete\n",
      "corrected text: create\n",
      "Old word :  a\n",
      "corrected text: a\n",
      "Old word :  site\n",
      "corrected text: site\n",
      "Old word :  calld\n",
      "corrected text: called\n",
      "Old word :  SITE\n",
      "corrected text: SITE\n",
      "Old word :  0\n",
      "corrected text: 0\n",
      "Old word :  0\n",
      "corrected text: 0\n",
      "Old word :  0\n",
      "corrected text: 0\n"
     ]
    }
   ],
   "source": [
    "from textblob import TextBlob\n",
    " \n",
    "a = \"cmputr\"           # incorrect spelling\n",
    "print(\"original text: \"+str(a))\n",
    " \n",
    "b = TextBlob(a)\n",
    " \n",
    "# prints the corrected spelling\n",
    "print(\"corrected text: \"+str(b.correct()))\n",
    "\n",
    "test = nlp(\"crete a site calld SITE 0 0 0\")\n",
    "\n",
    "for word in test:\n",
    "    print(\"Old word : \" , word)\n",
    "    b = TextBlob(str(word))\n",
    "    print(\"corrected text: \"+str(b.correct()))"
   ]
  },
  {
   "cell_type": "code",
   "execution_count": 381,
   "metadata": {},
   "outputs": [
    {
     "name": "stdout",
     "output_type": "stream",
     "text": [
      "True\n",
      "+site:P/BASIC@WSW\n",
      "P/BASIC:orientation=WSW\n"
     ]
    }
   ],
   "source": [
    "\"\"\"This module contains static tools for the different classes\"\"\"\n",
    "\n",
    "import re\n",
    "\n",
    "def create(typeOfObject : str, parameters : dict) -> str:\n",
    "    \"\"\"Creates an object from given parameters\"\"\"\n",
    "    if not isConform(parameters,typeOfObject):\n",
    "        raise ValueError(\"The parameters given are invalid for the object of type :\" + typeOfObject)\n",
    "    return \"+{}:\".format(typeOfObject) + \"@\".join([str(parameters[key]) for key in parameters.keys()])\n",
    "\n",
    "def delete(typeOfObject : str, parameters : dict) -> str:\n",
    "    \"\"\"Deletes an object from given parameters\n",
    "    We consider that the object exist with this name\"\"\"\n",
    "    return \"-{}\".format(parameters[\"name\"])\n",
    "\n",
    "def setName(oldName, newName : str) -> str:\n",
    "    \"\"\"Changes the name of an object, and ensures to keep it coherent\"\"\"\n",
    "    oldNameParent = getParentName(oldName)\n",
    "    newNameParent = getParentName(newName)\n",
    "    if oldNameParent != newNameParent:\n",
    "        raise ValueError(\"The new name is invalid because it does not respect the convention of the parent name\")\n",
    "    return \"{}:name={}\".format(oldName, newName)\n",
    "\n",
    "def setAttribute(name : str, attributeName : str, attributeArgument) -> str:\n",
    "    \"\"\"Modifies an attribute of an object with a given argument\"\"\"\n",
    "    if attributeName in CONFORMITY_CHECK:\n",
    "        if not CONFORMITY_CHECK[attributeName](attributeArgument):\n",
    "            raise ValueError(\"The new {} is invalid because the value {} is incorrect\".format(attributeName,attributeArgument))\n",
    "    return \"{}:{}={}\".format(name,attributeName,attributeArgument)\n",
    "\n",
    "def createAttribute(name : str, attributeName : str, attributeArgument) -> str:\n",
    "    \"\"\"Adds an attribute to an object with a given argument\"\"\"\n",
    "    return \"{}.{}={}\".format(name, attributeName,attributeArgument)\n",
    "\n",
    "def isConform(parameters : dict, entity=\"\") -> bool:\n",
    "    \"\"\"Verifies that the parameters given are conform thanks to multiple verification\n",
    "    functions, which are called if the parameter is in the parameters\"\"\"\n",
    "    if (CONFORMITY_CHECK == {}):\n",
    "        raise NotImplementedError(\"There are no implemented conformity checks\")\n",
    "    return all([CONFORMITY_CHECK[attribute](parameters[attribute],entity) for attribute in parameters.keys()])\n",
    "\n",
    "#region:Tests\n",
    "def isListOfNumbers(lst : list) -> bool:\n",
    "    \"\"\"Verifies that the list given in argument only contains numbers\"\"\"\n",
    "    n = len(lst)\n",
    "    k = 0\n",
    "    verified = True\n",
    "    while verified and k < n:\n",
    "        verified = verified and (type(lst[k]) in [float, int])\n",
    "        k += 1\n",
    "    return verified\n",
    "\n",
    "def isNameConform(name : str, entity=\"\") -> bool:\n",
    "    \"\"\"Verifies that the argument is a string. This function will potentially be changed if there are more\n",
    "    specifications for the name\"\"\"\n",
    "    return type(name) == str\n",
    "\n",
    "def isPositionConform(position : list,entity=\"\") -> bool:\n",
    "    \"\"\"Verifies that the list given in argument represents a position\"\"\"\n",
    "    match entity:\n",
    "        case 'device':\n",
    "            return type(position) in [int,float]\n",
    "        case 'rack':\n",
    "            return (len(position) == 2 or len(position) ==3) and isListOfNumbers(position)\n",
    "        case 'corridor':\n",
    "            return (len(position) == 2 or len(position) ==3) and isListOfNumbers(position)\n",
    "        case other:\n",
    "            return len(position) == 2 and isListOfNumbers(position)\n",
    "\n",
    "\n",
    "def isRotationConform(rotation : float|list,entity=\"\") -> bool:\n",
    "    \"\"\"Verifies that the argument is a number\"\"\"\n",
    "    match entity:\n",
    "        case 'rack':\n",
    "            return type(rotation)==list and len(rotation) == 3 and isListOfNumbers(rotation)\n",
    "        case 'corridor':\n",
    "            return  type(rotation)==list and len(rotation) == 3 and isListOfNumbers(rotation)\n",
    "        case other:\n",
    "            return type(rotation) in [float,int]\n",
    "    \n",
    "\n",
    "\n",
    "def isSizeConform(size : list,entity=\"\") -> bool:\n",
    "    \"\"\"Verifies that the list given in argument represents a size\"\"\"\n",
    "    match entity:\n",
    "        case 'device':\n",
    "            return type(size) in [int,float]\n",
    "        case 'pillar':\n",
    "            return len(size) == 2 and isListOfNumbers(size)\n",
    "        case other:\n",
    "            return len(size) == 3 and isListOfNumbers(size)\n",
    "    \n",
    "\n",
    "def isAxisOrientationConform(axis : str,entity=\"\") -> bool:\n",
    "    \"\"\"Verifies that the axis orientation is conform\"\"\"\n",
    "    return bool(re.compile(r\"[+-]x[+-]y\").match(axis))\n",
    "    \n",
    "def isFloorUnitConform(floorUnit : str,entity=\"\") -> bool:\n",
    "    \"\"\"Verifies that the floor unit is conform\"\"\"\n",
    "    return floorUnit.replace(\" \",\"\") in [\"t\",\"f\",\"m\"]\n",
    "\n",
    "def isUnitConform(floorUnit : str,entity=\"\") ->bool:\n",
    "    \"\"\"Verifies that the floor unit is conform\"\"\"\n",
    "    return floorUnit.replace(\" \",\"\") in [\"t\",\"f\",\"m\",\"u\"]\n",
    "\n",
    "def isColorConform(color : str,entity=\"\") -> bool:\n",
    "    \"\"\"Verifies that the string given in argument is an hexadecimal color\"\"\"\n",
    "    return bool(re.compile(r\"#[0-9A-F]{6}\").match(color))\n",
    "\n",
    "\n",
    "def isOrientationConform(orientation : str,entity=\"\") -> bool:\n",
    "    \"\"\"Verifies that the string given in argument is a valid orientation\"\"\"\n",
    "    return orientation in [\"N\",\"S\",\"W\",\"E\",\"NW\",\"NE\",\"SW\",\"SE\",\"ESE\"\n",
    "                           \"WNW\",\"NNW\",\"NNE\",\"ENE\",\"WSW\",\"SSW\",\"SSE\"]\n",
    "\n",
    "def isSlotConform(slot : str,entity=\"\") -> bool:\n",
    "    return type(slot) == str\n",
    "\n",
    "def isTemplateConform(temp :  str,entity=\"\") -> bool:\n",
    "    return type(teùmp) == str\n",
    "\n",
    "def isSideConform(side : str,entity=\"\") -> bool:\n",
    "    return side in [\"front\", \"rear\", \"frontflipped\", \"rearflipped\"]\n",
    "\n",
    "def isTemperatureConform(temperature : str,entity=\"\") -> bool:\n",
    "    return temperature in [\"cold\", \"warm\"]\n",
    "\n",
    "def isWallConform(wall : str, entity=\"\"):\n",
    "    return bool(re.compile(\"plain|wireframe\").match(wall))\n",
    "\n",
    "print(isWallConform(\"plain\"))\n",
    "#endregion\n",
    "\n",
    "#region:Helpers\n",
    "def parametersToString(parameters : list) -> list:\n",
    "    \"\"\"Returns a list with the type of the parameters in the list changed to string\"\"\"\n",
    "    return [str(parameter) for parameter in parameters]\n",
    "\n",
    "def getParentName(completeName : str) -> str:\n",
    "    \"\"\"Returns the name of the parent object. It reverses the name, then splits it using dot as separator, and only\n",
    "    gets the first part of the name, which is put back in order.\"\"\"\n",
    "    return \"\".join(reversed(completeName)).split(\"/\",1)[-1][::-1]\n",
    "#endregion\n",
    "\n",
    "\n",
    "CONFORMITY_CHECK = {\"name\" : isNameConform, \"orientation\" : isOrientationConform, \"position\" : isPositionConform,\n",
    "                    \"rotation\" : isRotationConform, \"size\" : isSizeConform, \"axisOrientation\" : isAxisOrientationConform,\n",
    "                    \"floorUnit\" : isFloorUnitConform, \"color\" : isColorConform, \"template\" : isTemplateConform,\n",
    "                    \"slot\" : isSlotConform, \"side\": isSideConform,\"temperature\":isTemperatureConform,\"unit\":isUnitConform,\n",
    "                    \"wall\" : isWallConform, \"startPosition\" : isPositionConform, \"endPosition\" : isPositionConform,\n",
    "                    \"attribute\":isTemplateConform\n",
    "                    }\n",
    "\n",
    "if __name__ == \"__main__\":\n",
    "    print(create(\"site\",{\"name\" : \"P/BASIC\", \"orientation\":\"WSW\"}))\n",
    "    print(setAttribute(\"P/BASIC\",\"orientation\",\"WSW\"))\n",
    "\n",
    "\n"
   ]
  },
  {
   "cell_type": "code",
   "execution_count": 391,
   "metadata": {},
   "outputs": [],
   "source": [
    "def main() -> str :\n",
    "    FINAL_INSTRUCTION = \"\"\n",
    "\n",
    "    ENTITIES_FULL_NAME = {\"entity\" : list(wiki.ENTITIES.keys())}\n",
    "\n",
    "    # TODO : add already existing entity names\n",
    "    KEY_WORDS_ALL = {**ENTITIES_FULL_NAME,  **KEY_WORDS_DICT}\n",
    "    # for parameter in KEY_WORDS_ALL.keys() :\n",
    "    #     for word in KEY_WORDS_ALL[parameter] :\n",
    "    #         print(word,nlp(word)[0].pos_)\n",
    "    KEY_WORDS_ENTRY = {}\n",
    "\n",
    "    natural_entry = input(\"Enter a prompt. Please follow the instructions given.\\n\")\n",
    "    processed_entry = nlp(natural_entry)\n",
    "\n",
    "    # we detect key words in the sentence given and put them into KEY_WORDS_ENTRY\n",
    "    for index,token in enumerate(processed_entry) :\n",
    "        matching_list = []\n",
    "        if token.pos_ == \"VERB\" and str(token) == token.lemma_ : # infinitive verb\n",
    "            for parameter in ACTIONS_DEFAULT.keys() :\n",
    "                similarity = max([token.similarity(nlp(word)[0]) for word in ACTIONS_DEFAULT[parameter]])\n",
    "                matching_list.append((similarity,parameter))\n",
    "        elif token.pos_ in [\"NOUN\",\"ADP\",\"VERB\"]:\n",
    "            for parameter in KEY_WORDS_ALL.keys() : \n",
    "                similarity = max([token.similarity(nlp(word)[0]) for word in KEY_WORDS_ALL[parameter]])\n",
    "                matching_list.append((similarity,parameter))\n",
    "        else :\n",
    "            continue\n",
    "        match = max(matching_list)\n",
    "        if match[0] > SIMILARITY_PARAMETER :\n",
    "            KEY_WORDS_ENTRY[index] = match[1]\n",
    "\n",
    "    print(KEY_WORDS_ENTRY)\n",
    "\n",
    "    # test detection\n",
    "    list_key_param = list(KEY_WORDS_ENTRY.values())\n",
    "    count_action = 0\n",
    "    for action_type in ACTIONS_DEFAULT.keys() :\n",
    "        count_action += list_key_param.count(action_type)\n",
    "\n",
    "    if count_action != 1 :\n",
    "        raise Exception(\"Action not detected\")\n",
    "    else :\n",
    "        global INDEX_ACTION\n",
    "        global INDEX_MAIN_SUBJECT\n",
    "        INDEX_ACTION = [index for index,keyword in KEY_WORDS_ENTRY.items() if keyword in ACTIONS_DEFAULT.keys()][0]\n",
    "        INDEX_MAIN_SUBJECT = findIndexMainSubject(processed_entry, INDEX_ACTION, KEY_WORDS_ENTRY)  \n",
    "    print(\"index main : \",INDEX_MAIN_SUBJECT)\n",
    "\n",
    "    dictEntities = {index : str(processed_entry[index]) for index,keyword in KEY_WORDS_ENTRY.items() if keyword == \"entity\"}\n",
    "    print(dictEntities)\n",
    "    dictioEntityNames = name(processed_entry, dictEntities, [INDEX_MAIN_SUBJECT, INDEX_ACTION])\n",
    "    print(\"names : \",dictioEntityNames)\n",
    "\n",
    "    # TODO : match cases (main = entity/parameter, verb = +/alteration...)\n",
    "    print(\"KEY_WORDS_ENTRY[INDEX_MAIN_SUBJECT]\", KEY_WORDS_ENTRY[INDEX_MAIN_SUBJECT])\n",
    "    if KEY_WORDS_ENTRY[INDEX_MAIN_SUBJECT] == \"entity\" :\n",
    "          # we do the processes related to each parameter\n",
    "        dictioEntityParameters = wiki.makeDictParam(str(processed_entry[INDEX_MAIN_SUBJECT]))\n",
    "        dictioEntityParameters[\"name\"] = str(processed_entry[dictioEntityNames[INDEX_MAIN_SUBJECT]])\n",
    "        allEntryItems = KEY_WORDS_ENTRY.items()\n",
    "        for counter,(index,parameter) in enumerate(allEntryItems) :\n",
    "            if (parameter in KEY_WORDS_DICT.keys()) and (parameter in dictioEntityParameters.keys()) and parameter != \"name\":\n",
    "                lastKeyWordIndex = 0 if counter == 0 else list(allEntryItems)[counter-1][0]\n",
    "                nextKeyWordIndex = len(processed_entry) if counter == len(allEntryItems)-1 else list(allEntryItems)[counter+1][0]\n",
    "                # get the parameter value\n",
    "                parameterValue = globals()[parameter](processed_entry, index, lastKeyWordIndex, nextKeyWordIndex,dictEntities[INDEX_MAIN_SUBJECT])\n",
    "                dictioEntityParameters[parameter] = parameterValue # store the value\n",
    "        if KEY_WORDS_ENTRY[INDEX_ACTION] == \"ACTION_POSITIVE\" :\n",
    "            print(\"dictioEntityParameters :\", dictioEntityParameters)\n",
    "            dictFormate = createDict(dictEntities[INDEX_MAIN_SUBJECT],dictioEntityParameters)\n",
    "            print(\"dictFormate :\", dictFormate)\n",
    "            command = create(dictEntities[INDEX_MAIN_SUBJECT],dictFormate)\n",
    "            print(\"command :\",command)\n",
    "            # TODO : call the class method\n",
    "\n",
    "        if KEY_WORDS_ENTRY[INDEX_ACTION] == \"ACTION_NEGATIVE\" :\n",
    "            print(\"dictioEntityParameters :\", dictioEntityParameters)\n",
    "            command = delete(dictEntities[INDEX_MAIN_SUBJECT],dictioEntityParameters)\n",
    "            print(\"command : \", command)\n",
    "           # TODO : call the class method\n",
    "\n",
    "        if KEY_WORDS_ENTRY[INDEX_ACTION] == \"ALTERATION\" :\n",
    "            print(dictioEntityParameters)\n",
    "            # TODO : understand what are the changes and its consequences\n",
    "            pass\n",
    "\n",
    "    if KEY_WORDS_ENTRY[INDEX_MAIN_SUBJECT] in KEY_WORDS_DICT.keys() :\n",
    "        # TODO : seek the value to be changed\n",
    "        pass\n",
    "\n",
    "\n",
    "    \n",
    "    # if seeking the name for the main entity, pass the indexaction as parameter\n",
    "    # if no name found, check the type of action : if +, a name is needed, otherwise not necessarily\n",
    "\n",
    "    # check if parameters were not given\n",
    "\n",
    "    # return KEY_WORDS_ENTRY"
   ]
  },
  {
   "cell_type": "code",
   "execution_count": 395,
   "metadata": {},
   "outputs": [
    {
     "name": "stderr",
     "output_type": "stream",
     "text": [
      "C:\\Users\\Admin\\AppData\\Local\\Temp\\ipykernel_10920\\1016861164.py:25: UserWarning: [W008] Evaluating Token.similarity based on empty vectors.\n",
      "  similarity = max([token.similarity(nlp(word)[0]) for word in KEY_WORDS_ALL[parameter]])\n"
     ]
    },
    {
     "name": "stdout",
     "output_type": "stream",
     "text": [
      "{0: 'ACTION_NEGATIVE', 2: 'entity', 3: 'name'}\n",
      "index main :  2\n",
      "{2: 'rack'}\n",
      "names :  {2: 4}\n",
      "KEY_WORDS_ENTRY[INDEX_MAIN_SUBJECT] entity\n",
      "dictioEntityParameters : {'name': 'RK1', 'position': None, 'unit': None, 'rotation': None, 'size': None, 'template': None}\n",
      "command :  -RK1\n"
     ]
    },
    {
     "name": "stderr",
     "output_type": "stream",
     "text": [
      "C:\\Users\\Admin\\AppData\\Local\\Temp\\ipykernel_10920\\3433111061.py:49: UserWarning: [W008] Evaluating Token.similarity based on empty vectors.\n",
      "  if sum([token.similarity(nlp(word)[0]) > SIMILARITY_PARAMETER for word in EXPLICIT]) >= 1 :\n"
     ]
    }
   ],
   "source": [
    "text0 = \"create a site called SITE with an orientation of E\"\n",
    "text = \"create the building called IMT at the position 0 0 rotated 90 and a size of 10*10*10 \"\n",
    "test2 = \"\"\"create a room called ROOM1 with a position of 4 14 a rotation of 10\n",
    "an axisOrientation of -x -y  a size of 10 10 10 with a floorUnit in m \"\"\"\n",
    "test3 = \"\"\"build a rack named RACK1 at the position 10 -10 50 in unit tildes with a rotation of [0,0,180] and a size of 10 20 30\"\"\"\n",
    "test4 = \"\"\" construct a device named DEVICE1 at the position 4 at the size 45\"\"\"\n",
    "test5 = \"\"\"create a corridor called CORR1 at the position 0 0 with metre as unit a rotation of 0 0 0 a size of 10*10*10 and a warm temperature\"\"\"\n",
    "test6 = \"\"\"create a tag named TAG1 with the color #154987\"\"\"\n",
    "test7 = \"\"\"create a pillar called P1 at the position 10 10 with a size of 10 50 and a rotation of 10\"\"\"\n",
    "#PB AVEC MOT WIREFRAME --> Template\n",
    "test7 = \"\"\"construct a separator called SEPA1 with wall in plain and a startPosition of 10 25 and a endPosition 54 78 \"\"\"\n",
    "test8 = \"\"\"build a pillar called P1 centered at 10 21 with a size of 15 78 and a rotation of 87\"\"\"\n",
    "#PB because attribute is understood as a name\n",
    "test9 = \"\"\"create a label named ATTRIBUTE\"\"\"\n",
    "test10 = \"\"\"delete the site called SITE\"\"\"\n",
    "test11 = \"\"\"delete the building  called IMT\"\"\"\n",
    "test12 = \"\"\"delete the room called ROOM1\"\"\"\n",
    "test13 = \"\"\"delete the rack called RK1\"\"\"\n",
    "main()"
   ]
  },
  {
   "cell_type": "code",
   "execution_count": 334,
   "metadata": {},
   "outputs": [],
   "source": [
    "def createSiteDict(dictSite : dict) -> dict:\n",
    "    finalDict = {}\n",
    "    keys = dictSite.keys()\n",
    "    if \"name\" in keys and \"orientation\" in keys:\n",
    "        finalDict[\"name\"] = dictSite[\"name\"]\n",
    "        if dictSite[\"orientation\"] !=None:\n",
    "            finalDict[\"orientation\"] = dictSite[\"orientation\"]\n",
    "    else: \n",
    "        raise Exception (\"At least one mandatory parameters was forgotten\")\n",
    "    return finalDict\n",
    "    "
   ]
  },
  {
   "cell_type": "code",
   "execution_count": 335,
   "metadata": {},
   "outputs": [
    {
     "name": "stdout",
     "output_type": "stream",
     "text": [
      "{'name': 'SITE', 'orientation': 'ORIENTATION'}\n"
     ]
    }
   ],
   "source": [
    "test = {\"name\" : \"SITE\", \"orientation\" : \"ORIENTATION\"}\n",
    "print(createSiteDict(test))"
   ]
  },
  {
   "cell_type": "code",
   "execution_count": 322,
   "metadata": {},
   "outputs": [],
   "source": [
    "def createBuildingDict(dictBuild : dict) -> dict : #NB COLOR + EXCEPTION FOR FUNCTION\n",
    "    finalDict = {}\n",
    "    keys = dictBuild.keys()\n",
    "    print(\"name\" in keys)\n",
    "    if \"name\" in keys and \"position\" in keys and \"rotation\" in keys:\n",
    "        finalDict[\"name\"] = dictBuild[\"name\"]\n",
    "        finalDict[\"position\"] = dictBuild[\"position\"]\n",
    "        finalDict[\"rotation\"] = dictBuild[\"rotation\"]\n",
    "    else:\n",
    "        raise Exception(\"Mandatory argument missing\")\n",
    "    if \"size\" in keys and \"template\" in keys:\n",
    "        if dictBuild[\"size\"] !=None and dictBuild[\"template\"] !=None:\n",
    "            raise Exception(\"A size and a template were given\")\n",
    "        elif dictBuild[\"size\"] !=None:\n",
    "            finalDict[\"size\"] = dictBuild[\"size\"]\n",
    "        else:\n",
    "            finalDict[\"template\"] = dictBuild[\"template\"]\n",
    "    else:\n",
    "        raise Exception(\"Neither a size neither a template were given\")\n",
    "    return finalDict"
   ]
  },
  {
   "cell_type": "code",
   "execution_count": 323,
   "metadata": {},
   "outputs": [
    {
     "name": "stdout",
     "output_type": "stream",
     "text": [
      "True\n",
      "{'name': 'IMT', 'position': [0.0, 0.0], 'rotation': '90', 'template': 'temp'}\n"
     ]
    }
   ],
   "source": [
    "text = {'name': 'IMT', 'position': [0.0, 0.0], 'rotation': '90', 'size': None, 'template': \"temp\"}\n",
    "\n",
    "print(createBuildingDict(text))"
   ]
  },
  {
   "cell_type": "code",
   "execution_count": 77,
   "metadata": {},
   "outputs": [],
   "source": [
    "def createRoomDict(dictRoom : dict) -> dict:\n",
    "    finalDict = {}\n",
    "    keys = dictRoom.keys()\n",
    "    if \"name\" in keys and \"position\" in keys and \"rotation\" in keys:\n",
    "        finalDict[\"name\"] = dictRoom[\"name\"]\n",
    "        finalDict[\"position\"] = dictRoom[\"position\"]\n",
    "        finalDict[\"rotation\"] = dictRoom[\"rotation\"]\n",
    "    else:\n",
    "        raise Exception(\"At least one mandatory element is missing\")\n",
    "    \n",
    "    if \"size\" in keys and \"template\" in keys:\n",
    "        if dictRoom[\"size\"] !=None and dictRoom[\"template\"] !=None:\n",
    "            raise Exception(\"A size and a template were given\")\n",
    "        elif dictRoom[\"size\"] !=None:\n",
    "            #If we have a size, we have to have an axisOrientation\n",
    "            if \"axisOrientation\" in keys and dictRoom[\"axisOrientation\"] !=None:\n",
    "                finalDict[\"size\"] = dictRoom[\"size\"]\n",
    "                finalDict[\"axisOrientation\"] = dictRoom[\"axisOrientation\"]\n",
    "            else :\n",
    "                raise Exception(\"axisOrientation missing while a size was given\")\n",
    "            if \"floorUnit\" in keys and dictRoom[\"floorUnit\"] !=None:\n",
    "                finalDict[\"floorUnit\"] = dictRoom[\"floorUnit\"]\n",
    "        else:\n",
    "            finalDict[\"template\"] = dictRoom[\"template\"]\n",
    "    else:\n",
    "        raise Exception(\"Neither a size neither a template were given\")\n",
    "    return finalDict\n"
   ]
  },
  {
   "cell_type": "code",
   "execution_count": 146,
   "metadata": {},
   "outputs": [
    {
     "name": "stdout",
     "output_type": "stream",
     "text": [
      "{'name': 'ROOM1', 'position': [4.0, 14.0], 'rotation': 10.0, 'size': [10.0, 10.0, 10.0], 'axisOrientation': '-x-y', 'floorUnit': 'm'}\n"
     ]
    }
   ],
   "source": [
    "test = {'name': 'ROOM1', 'position': [4.0, 14.0], 'rotation': 10.0, 'size': [10.0, 10.0, 10.0], 'axisOrientation': '-x-y', 'floorUnit': 'm', 'template': None}\n",
    "print(createRoomDict(test))"
   ]
  },
  {
   "cell_type": "code",
   "execution_count": 78,
   "metadata": {},
   "outputs": [],
   "source": [
    "def createRackDict(dictRack : dict) -> dict:\n",
    "    finalDict = {}\n",
    "    keys = dictRack.keys()\n",
    "    if \"name\" in keys and \"position\" in keys and \"rotation\" in keys and 'unit' in keys:\n",
    "        finalDict[\"name\"] = dictRack[\"name\"]\n",
    "        finalDict[\"position\"] = dictRack[\"position\"]\n",
    "        finalDict[\"unit\"] = dictRack[\"unit\"]\n",
    "        finalDict[\"rotation\"] = dictRack[\"rotation\"]\n",
    "    else:\n",
    "        raise Exception(\"At least one mandatory element is missing\")\n",
    "    \n",
    "    if \"size\" in keys and \"template\" in keys:\n",
    "        if dictRack[\"size\"] !=None and dictRack[\"template\"] !=None:\n",
    "            raise Exception(\"A size and a template were given\")\n",
    "        elif dictRack[\"size\"] !=None:\n",
    "            finalDict[\"size\"] = dictRack[\"size\"]\n",
    "        else:\n",
    "            finalDict[\"template\"] = dictRack[\"template\"]\n",
    "    else:\n",
    "        raise Exception(\"Neither a size neither a template were given\")\n",
    "    return finalDict"
   ]
  },
  {
   "cell_type": "code",
   "execution_count": 406,
   "metadata": {},
   "outputs": [
    {
     "name": "stdout",
     "output_type": "stream",
     "text": [
      "{'name': 'RACK1', 'position': [10.0, -10.0, 50.0], 'rotation': ['0', '0', '180'], 'unit': 'tilde', 'size': [10.0, 20.0, 30.0]}\n"
     ]
    }
   ],
   "source": [
    "test = {'name': 'RACK1', 'position': [10.0, -10.0, 50.0], 'unit': 'tilde', 'rotation': ['0', '0', '180'], 'size': [10.0, 20.0, 30.0], 'template': None}\n",
    "print(createRackDict(test))"
   ]
  },
  {
   "cell_type": "code",
   "execution_count": 79,
   "metadata": {},
   "outputs": [],
   "source": [
    "def createDeviceDict(dictDevice : dict) -> dict:\n",
    "    finalDict = {}\n",
    "    keys = dictDevice.keys()\n",
    "    if \"name\" in keys:\n",
    "        finalDict[\"name\"] = dictDevice[\"name\"]\n",
    "    else:\n",
    "        raise Exception(\"At least one mandatory element is missing\")\n",
    "    #A devive has either a position either a slot\n",
    "    if \"position\" in keys and \"slot\" in keys:\n",
    "        if dictDevice[\"position\"] !=None and dictDevice[\"slot\"] !=None:\n",
    "            raise Exception(\"a posU and a slot were given\")\n",
    "        elif dictDevice[\"position\"] !=None:\n",
    "            finalDict[\"position\"] = dictDevice[\"position\"]\n",
    "        else:\n",
    "            finalDict[\"slot\"] = dictDevice[\"slot\"]\n",
    "    #A device has either a size either a template\n",
    "    if \"size\" in keys and \"template\" in keys:\n",
    "        if dictDevice[\"size\"] !=None and dictDevice[\"template\"] !=None:\n",
    "            raise Exception(\"A size and a template were given\")\n",
    "        elif dictDevice[\"size\"] !=None:\n",
    "            finalDict[\"size\"] = dictDevice[\"size\"]\n",
    "        else:\n",
    "            finalDict[\"template\"] = dictDevice[\"template\"]\n",
    "    else:\n",
    "        raise Exception(\"Neither a size neither a template were given\")\n",
    "    \n",
    "    #A device can have a side if it has a template and a slot\n",
    "    if dictDevice[\"template\"] !=None and dictDevice[\"slot\"] !=None:\n",
    "        if side in keys and dictDevice[\"side\"] !=None:\n",
    "            finalDict[\"side\"] = dictDevice[\"side\"]\n",
    "\n",
    "    return finalDict"
   ]
  },
  {
   "cell_type": "code",
   "execution_count": 411,
   "metadata": {},
   "outputs": [
    {
     "name": "stdout",
     "output_type": "stream",
     "text": [
      "{'name': 'DEVICE1', 'position': [4.0], 'size': [45.0]}\n"
     ]
    }
   ],
   "source": [
    "test = {'name': 'DEVICE1', 'position': [4.0], 'size': [45.0], 'template': None, 'slot': None, 'side': None}\n",
    "print(createDeviceDict(test))"
   ]
  },
  {
   "cell_type": "code",
   "execution_count": 160,
   "metadata": {},
   "outputs": [],
   "source": [
    "def createCorridorDict(dictCorridor : dict) -> dict:\n",
    "    finalDict = {}\n",
    "    keys = dictCorridor.keys()\n",
    "    if \"name\" in keys and \"position\" in keys and \"rotation\" in keys and \"unit\" in keys and \"size\" in keys and \"temperature\" in keys:\n",
    "        finalDict[\"name\"] = dictCorridor[\"name\"]\n",
    "        finalDict[\"position\"] = dictCorridor[\"position\"]\n",
    "        finalDict[\"unit\"] = dictCorridor[\"unit\"]\n",
    "        finalDict[\"rotation\"] = dictCorridor[\"rotation\"]\n",
    "        finalDict[\"size\"] = dictCorridor[\"size\"]\n",
    "        finalDict[\"temperature\"] = dictCorridor[\"temperature\"]\n",
    "    else:\n",
    "        raise Exception(\"At least one mandatory argument was forgotten\")\n",
    "    return finalDict"
   ]
  },
  {
   "cell_type": "code",
   "execution_count": 169,
   "metadata": {},
   "outputs": [],
   "source": [
    "def createTagDict(dictTag: dict) -> dict:\n",
    "    finalDict={}\n",
    "    keys = dictTag.keys()\n",
    "    if \"name\" in keys and \"color\" in keys:\n",
    "        finalDict[\"name\"] = dictTag[\"name\"]\n",
    "        finalDict[\"color\"] = dictTag[\"color\"]\n",
    "    else:\n",
    "        raise Exception(\"At least one mandatory attribute was forgotten\")\n",
    "    return finalDict"
   ]
  },
  {
   "cell_type": "code",
   "execution_count": 170,
   "metadata": {},
   "outputs": [
    {
     "name": "stdout",
     "output_type": "stream",
     "text": [
      "{'name': 'CORR1', 'position': [0.0, 0.0], 'unit': 'metre', 'rotation': ['0', '0', '0'], 'size': [10.0, 10.0, 10.0], 'temperature': 'warm'}\n",
      "{'name': 'TAG1', 'color': '#154987'}\n"
     ]
    }
   ],
   "source": [
    "test = {'name': 'CORR1', 'position': [0.0, 0.0], 'unit': 'metre', 'rotation': ['0', '0', '0'], 'size': [10.0, 10.0, 10.0], 'temperature': 'warm'}\n",
    "print(createCorridorDict(test))\n",
    "test = {'name': 'TAG1', 'color': '#154987'}\n",
    "print(createTagDict(test))"
   ]
  },
  {
   "cell_type": "code",
   "execution_count": 293,
   "metadata": {},
   "outputs": [],
   "source": [
    "def createSeparatorDict(dictEntity : dict) -> dict:\n",
    "    finalDict = {}\n",
    "    keys = dictEntity.keys()\n",
    "    if \"name\" in keys and \"startPosition\" in keys and \"endPosition\" in keys and \"wall\" in keys:\n",
    "        finalDict[\"name\"] = dictEntity[\"name\"]\n",
    "        finalDict[\"startPosition\"] = dictEntity[\"startPosition\"]\n",
    "        finalDict[\"endPosition\"] = dictEntity[\"endPosition\"]\n",
    "        finalDict[\"wall\"] = dictEntity[\"wall\"]\n",
    "    else:\n",
    "        raise Exception(\"At least one mandatory argument was forgotten\")\n",
    "    return finalDict"
   ]
  },
  {
   "cell_type": "code",
   "execution_count": 295,
   "metadata": {},
   "outputs": [
    {
     "name": "stdout",
     "output_type": "stream",
     "text": [
      "{'name': 'SEPA1', 'startPosition': [10.0, 25.0], 'endPosition': [54.0, 78.0], 'wall': 'plain'}\n"
     ]
    }
   ],
   "source": [
    "test = {'name': 'SEPA1', 'startPosition': [10.0, 25.0], 'endPosition': [54.0, 78.0], 'wall': 'plain'}\n",
    "print(createSeparatorDict(test))"
   ]
  },
  {
   "cell_type": "code",
   "execution_count": 296,
   "metadata": {},
   "outputs": [],
   "source": [
    "def createPillarDict(dictEntity : dict) -> dict:\n",
    "    finalDict = {}\n",
    "    keys = dictEntity.keys()\n",
    "    if \"name\" in keys and \"position\" in keys and \"size\" in keys and \"rotation\" in keys:\n",
    "        finalDict[\"name\"] = dictEntity[\"name\"]\n",
    "        finalDict[\"position\"] = dictEntity[\"position\"]\n",
    "        finalDict[\"size\"] = dictEntity[\"size\"]\n",
    "        finalDict[\"rotation\"] = dictEntity[\"rotation\"]\n",
    "    else:\n",
    "        raise Exception(\"At least one mandatory argument was forgotten\")\n",
    "    return finalDict"
   ]
  },
  {
   "cell_type": "code",
   "execution_count": 299,
   "metadata": {},
   "outputs": [
    {
     "name": "stdout",
     "output_type": "stream",
     "text": [
      "{'name': 'P1', 'position': [10.0, 21.0], 'size': [15.0, 78.0], 'rotation': 87.0}\n"
     ]
    }
   ],
   "source": [
    "test = {'name': 'P1', 'position': [10.0, 21.0], 'size': [15.0, 78.0], 'rotation': 87.0}\n",
    "print(createPillarDict(test))"
   ]
  },
  {
   "cell_type": "code",
   "execution_count": 300,
   "metadata": {},
   "outputs": [],
   "source": [
    "def createLabelDict(dictEntity: dict) -> dict:\n",
    "    finalDict = {}\n",
    "    keys = dictEntity.keys()\n",
    "    if \"name\" in keys and \"attribute\" in keys:\n",
    "        if dictEntity[\"name\"] !=None and dictEntity[\"attribute\"] !=None:\n",
    "            raise Exception(\"A name and an attribute was given\")\n",
    "        if dictEntity[\"name\"] !=None:\n",
    "            finalDict[\"name\"] = dictEntity[\"name\"]\n",
    "        elif dictEntity[\"attribute\"] != None:\n",
    "            finalDict[\"attribute\"] =  dictEntity[\"attribute\"]\n",
    "        else:\n",
    "            raise Exception(\"Both name and attribute are false\")\n",
    "    else:\n",
    "        raise Exception(\"At least one mandatory argument was forgotten\")\n",
    "    return finalDict"
   ]
  },
  {
   "cell_type": "code",
   "execution_count": 306,
   "metadata": {},
   "outputs": [
    {
     "name": "stdout",
     "output_type": "stream",
     "text": [
      "{'name': 'NAME'}\n"
     ]
    }
   ],
   "source": [
    "test = {'attribute': None , 'font': None, 'background': None, 'name': 'NAME'}\n",
    "print(createLabelDict(test))"
   ]
  },
  {
   "cell_type": "code",
   "execution_count": 364,
   "metadata": {},
   "outputs": [],
   "source": [
    "def createDict(entity : str,dictEntity: dict) -> dict:\n",
    "    match entity:\n",
    "        case 'site': \n",
    "            return createSiteDict(dictEntity)\n",
    "        case 'building':\n",
    "            return createBuildingDict(dictEntity)\n",
    "        case 'room':\n",
    "            return createRoomDict(dictEntity)\n",
    "        case 'rack':\n",
    "            return createRackDict(dictEntity)\n",
    "        case 'device':\n",
    "            return createDeviceDict(dictEntity)\n",
    "        case 'separator':\n",
    "            return createSeparatorDict(dictEntity)\n",
    "        case 'pillar':\n",
    "            return createPillarDict(dictEntity)\n",
    "        case 'label':\n",
    "            return createLabelDict(dictEntity)\n",
    "        case 'corridor':\n",
    "            return createCorridorDict(dictEntity)\n",
    "        case 'tag':\n",
    "            return createTagDict(dictEntity)\n",
    "    raise Exception(\"None of the entity were found\")"
   ]
  },
  {
   "cell_type": "code",
   "execution_count": 307,
   "metadata": {},
   "outputs": [],
   "source": [
    "from items.tools import *"
   ]
  },
  {
   "cell_type": "code",
   "execution_count": 309,
   "metadata": {},
   "outputs": [
    {
     "name": "stdout",
     "output_type": "stream",
     "text": [
      "The given parameters :\n",
      "[True, True, True, True, True, True]\n",
      "True\n",
      "+bd:ROOM1@[4.0, 14.0]@10.0@-x-y@[10.0, 10.0, 10.0]@m\n"
     ]
    }
   ],
   "source": [
    "test = {'name': 'ROOM1', 'position': [4.0, 14.0], 'rotation': 10.0, 'size': [10.0, 10.0, 10.0], 'axisOrientation': '-x-y', 'floorUnit': 'm', 'template': None}\n",
    "print(createEntity(\"room\", test))"
   ]
  },
  {
   "cell_type": "code",
   "execution_count": 13,
   "metadata": {},
   "outputs": [
    {
     "data": {
      "text/plain": [
       "0.6624487638473511"
      ]
     },
     "execution_count": 13,
     "metadata": {},
     "output_type": "execute_result"
    }
   ],
   "source": [
    "nlp(\"rotated\")[0].similarity(nlp(\"rotation\")[0])\n",
    "# [nlp(\"current\")[0].similarity(nlp(word)[0]) for word in [\"axis\", \"orientation\"]]"
   ]
  },
  {
   "cell_type": "code",
   "execution_count": 14,
   "metadata": {},
   "outputs": [
    {
     "ename": "TypeError",
     "evalue": "position() takes 4 positional arguments but 5 were given",
     "output_type": "error",
     "traceback": [
      "\u001b[1;31m---------------------------------------------------------------------------\u001b[0m",
      "\u001b[1;31mTypeError\u001b[0m                                 Traceback (most recent call last)",
      "Cell \u001b[1;32mIn[14], line 4\u001b[0m\n\u001b[0;32m      1\u001b[0m \u001b[38;5;66;03m#Test position, size, rotation, template\u001b[39;00m\n\u001b[0;32m      2\u001b[0m testNlp \u001b[38;5;241m=\u001b[39m nlp(\u001b[38;5;124m\"\u001b[39m\u001b[38;5;124mat 0.0 0 create a building named BATIMENT with the dimension 50 40 60, turned by 90 degrees and with the template called FAKER\u001b[39m\u001b[38;5;124m\"\u001b[39m)\n\u001b[1;32m----> 4\u001b[0m \u001b[38;5;28mprint\u001b[39m(\u001b[38;5;124m\"\u001b[39m\u001b[38;5;124mPosition :\u001b[39m\u001b[38;5;124m\"\u001b[39m \u001b[38;5;241m+\u001b[39m \u001b[38;5;28mstr\u001b[39m(\u001b[43mposition\u001b[49m\u001b[43m(\u001b[49m\u001b[43mtestNlp\u001b[49m\u001b[43m,\u001b[49m\u001b[43m \u001b[49m\u001b[38;5;241;43m0\u001b[39;49m\u001b[43m,\u001b[49m\u001b[43m \u001b[49m\u001b[38;5;241;43m0\u001b[39;49m\u001b[43m,\u001b[49m\u001b[43m \u001b[49m\u001b[38;5;241;43m4\u001b[39;49m\u001b[43m,\u001b[49m\u001b[43m \u001b[49m\u001b[38;5;124;43m\"\u001b[39;49m\u001b[38;5;124;43mbuilding\u001b[39;49m\u001b[38;5;124;43m\"\u001b[39;49m\u001b[43m)\u001b[49m))\n\u001b[0;32m      5\u001b[0m \u001b[38;5;28mprint\u001b[39m(\u001b[38;5;124m\"\u001b[39m\u001b[38;5;124mRotation :\u001b[39m\u001b[38;5;124m\"\u001b[39m \u001b[38;5;241m+\u001b[39m \u001b[38;5;28mstr\u001b[39m(rotation(testNlp, \u001b[38;5;241m15\u001b[39m, \u001b[38;5;241m11\u001b[39m, \u001b[38;5;241m19\u001b[39m, \u001b[38;5;124m\"\u001b[39m\u001b[38;5;124mbuilding\u001b[39m\u001b[38;5;124m\"\u001b[39m)))\n\u001b[0;32m      6\u001b[0m \u001b[38;5;28mprint\u001b[39m(\u001b[38;5;124m\"\u001b[39m\u001b[38;5;124mDimension :\u001b[39m\u001b[38;5;124m\"\u001b[39m \u001b[38;5;241m+\u001b[39m \u001b[38;5;28mstr\u001b[39m(size(testNlp, \u001b[38;5;241m10\u001b[39m, \u001b[38;5;241m6\u001b[39m, \u001b[38;5;241m14\u001b[39m, \u001b[38;5;124m\"\u001b[39m\u001b[38;5;124mbuilding\u001b[39m\u001b[38;5;124m\"\u001b[39m)))\n",
      "\u001b[1;31mTypeError\u001b[0m: position() takes 4 positional arguments but 5 were given"
     ]
    }
   ],
   "source": [
    "#Test position, size, rotation, template\n",
    "testNlp = nlp(\"at 0.0 0 create a building named BATIMENT with the dimension 50 40 60, turned by 90 degrees and with the template called FAKER\")\n",
    "\n",
    "print(\"Position :\" + str(position(testNlp, 0, 0, 4, \"building\")))\n",
    "print(\"Rotation :\" + str(rotation(testNlp, 15, 11, 19, \"building\")))\n",
    "print(\"Dimension :\" + str(size(testNlp, 10, 6, 14, \"building\")))\n",
    "print(\"Template :\" + str(template(testNlp, 22, 19, 23, \"building\")))"
   ]
  },
  {
   "cell_type": "code",
   "execution_count": 63,
   "metadata": {},
   "outputs": [
    {
     "data": {
      "text/html": [
       "<span class=\"tex2jax_ignore\"><svg xmlns=\"http://www.w3.org/2000/svg\" xmlns:xlink=\"http://www.w3.org/1999/xlink\" xml:lang=\"en\" id=\"31856561ffba49468ea95137cd2617bb-0\" class=\"displacy\" width=\"4250\" height=\"487.0\" direction=\"ltr\" style=\"max-width: none; height: 487.0px; color: #000000; background: #ffffff; font-family: Arial; direction: ltr\">\n",
       "<text class=\"displacy-token\" fill=\"currentColor\" text-anchor=\"middle\" y=\"397.0\">\n",
       "    <tspan class=\"displacy-word\" fill=\"currentColor\" x=\"50\">at</tspan>\n",
       "    <tspan class=\"displacy-tag\" dy=\"2em\" fill=\"currentColor\" x=\"50\">ADP</tspan>\n",
       "</text>\n",
       "\n",
       "<text class=\"displacy-token\" fill=\"currentColor\" text-anchor=\"middle\" y=\"397.0\">\n",
       "    <tspan class=\"displacy-word\" fill=\"currentColor\" x=\"225\">0.0</tspan>\n",
       "    <tspan class=\"displacy-tag\" dy=\"2em\" fill=\"currentColor\" x=\"225\">NUM</tspan>\n",
       "</text>\n",
       "\n",
       "<text class=\"displacy-token\" fill=\"currentColor\" text-anchor=\"middle\" y=\"397.0\">\n",
       "    <tspan class=\"displacy-word\" fill=\"currentColor\" x=\"400\">0</tspan>\n",
       "    <tspan class=\"displacy-tag\" dy=\"2em\" fill=\"currentColor\" x=\"400\">NUM</tspan>\n",
       "</text>\n",
       "\n",
       "<text class=\"displacy-token\" fill=\"currentColor\" text-anchor=\"middle\" y=\"397.0\">\n",
       "    <tspan class=\"displacy-word\" fill=\"currentColor\" x=\"575\">create</tspan>\n",
       "    <tspan class=\"displacy-tag\" dy=\"2em\" fill=\"currentColor\" x=\"575\">VERB</tspan>\n",
       "</text>\n",
       "\n",
       "<text class=\"displacy-token\" fill=\"currentColor\" text-anchor=\"middle\" y=\"397.0\">\n",
       "    <tspan class=\"displacy-word\" fill=\"currentColor\" x=\"750\">a</tspan>\n",
       "    <tspan class=\"displacy-tag\" dy=\"2em\" fill=\"currentColor\" x=\"750\">DET</tspan>\n",
       "</text>\n",
       "\n",
       "<text class=\"displacy-token\" fill=\"currentColor\" text-anchor=\"middle\" y=\"397.0\">\n",
       "    <tspan class=\"displacy-word\" fill=\"currentColor\" x=\"925\">building</tspan>\n",
       "    <tspan class=\"displacy-tag\" dy=\"2em\" fill=\"currentColor\" x=\"925\">NOUN</tspan>\n",
       "</text>\n",
       "\n",
       "<text class=\"displacy-token\" fill=\"currentColor\" text-anchor=\"middle\" y=\"397.0\">\n",
       "    <tspan class=\"displacy-word\" fill=\"currentColor\" x=\"1100\">named</tspan>\n",
       "    <tspan class=\"displacy-tag\" dy=\"2em\" fill=\"currentColor\" x=\"1100\">VERB</tspan>\n",
       "</text>\n",
       "\n",
       "<text class=\"displacy-token\" fill=\"currentColor\" text-anchor=\"middle\" y=\"397.0\">\n",
       "    <tspan class=\"displacy-word\" fill=\"currentColor\" x=\"1275\">BATIMENT</tspan>\n",
       "    <tspan class=\"displacy-tag\" dy=\"2em\" fill=\"currentColor\" x=\"1275\">PROPN</tspan>\n",
       "</text>\n",
       "\n",
       "<text class=\"displacy-token\" fill=\"currentColor\" text-anchor=\"middle\" y=\"397.0\">\n",
       "    <tspan class=\"displacy-word\" fill=\"currentColor\" x=\"1450\">with</tspan>\n",
       "    <tspan class=\"displacy-tag\" dy=\"2em\" fill=\"currentColor\" x=\"1450\">ADP</tspan>\n",
       "</text>\n",
       "\n",
       "<text class=\"displacy-token\" fill=\"currentColor\" text-anchor=\"middle\" y=\"397.0\">\n",
       "    <tspan class=\"displacy-word\" fill=\"currentColor\" x=\"1625\">the</tspan>\n",
       "    <tspan class=\"displacy-tag\" dy=\"2em\" fill=\"currentColor\" x=\"1625\">DET</tspan>\n",
       "</text>\n",
       "\n",
       "<text class=\"displacy-token\" fill=\"currentColor\" text-anchor=\"middle\" y=\"397.0\">\n",
       "    <tspan class=\"displacy-word\" fill=\"currentColor\" x=\"1800\">dimension</tspan>\n",
       "    <tspan class=\"displacy-tag\" dy=\"2em\" fill=\"currentColor\" x=\"1800\">NOUN</tspan>\n",
       "</text>\n",
       "\n",
       "<text class=\"displacy-token\" fill=\"currentColor\" text-anchor=\"middle\" y=\"397.0\">\n",
       "    <tspan class=\"displacy-word\" fill=\"currentColor\" x=\"1975\">50</tspan>\n",
       "    <tspan class=\"displacy-tag\" dy=\"2em\" fill=\"currentColor\" x=\"1975\">NUM</tspan>\n",
       "</text>\n",
       "\n",
       "<text class=\"displacy-token\" fill=\"currentColor\" text-anchor=\"middle\" y=\"397.0\">\n",
       "    <tspan class=\"displacy-word\" fill=\"currentColor\" x=\"2150\">40</tspan>\n",
       "    <tspan class=\"displacy-tag\" dy=\"2em\" fill=\"currentColor\" x=\"2150\">NUM</tspan>\n",
       "</text>\n",
       "\n",
       "<text class=\"displacy-token\" fill=\"currentColor\" text-anchor=\"middle\" y=\"397.0\">\n",
       "    <tspan class=\"displacy-word\" fill=\"currentColor\" x=\"2325\">60,</tspan>\n",
       "    <tspan class=\"displacy-tag\" dy=\"2em\" fill=\"currentColor\" x=\"2325\">NUM</tspan>\n",
       "</text>\n",
       "\n",
       "<text class=\"displacy-token\" fill=\"currentColor\" text-anchor=\"middle\" y=\"397.0\">\n",
       "    <tspan class=\"displacy-word\" fill=\"currentColor\" x=\"2500\">turned</tspan>\n",
       "    <tspan class=\"displacy-tag\" dy=\"2em\" fill=\"currentColor\" x=\"2500\">VERB</tspan>\n",
       "</text>\n",
       "\n",
       "<text class=\"displacy-token\" fill=\"currentColor\" text-anchor=\"middle\" y=\"397.0\">\n",
       "    <tspan class=\"displacy-word\" fill=\"currentColor\" x=\"2675\">by</tspan>\n",
       "    <tspan class=\"displacy-tag\" dy=\"2em\" fill=\"currentColor\" x=\"2675\">ADP</tspan>\n",
       "</text>\n",
       "\n",
       "<text class=\"displacy-token\" fill=\"currentColor\" text-anchor=\"middle\" y=\"397.0\">\n",
       "    <tspan class=\"displacy-word\" fill=\"currentColor\" x=\"2850\">90</tspan>\n",
       "    <tspan class=\"displacy-tag\" dy=\"2em\" fill=\"currentColor\" x=\"2850\">NUM</tspan>\n",
       "</text>\n",
       "\n",
       "<text class=\"displacy-token\" fill=\"currentColor\" text-anchor=\"middle\" y=\"397.0\">\n",
       "    <tspan class=\"displacy-word\" fill=\"currentColor\" x=\"3025\">degrees</tspan>\n",
       "    <tspan class=\"displacy-tag\" dy=\"2em\" fill=\"currentColor\" x=\"3025\">NOUN</tspan>\n",
       "</text>\n",
       "\n",
       "<text class=\"displacy-token\" fill=\"currentColor\" text-anchor=\"middle\" y=\"397.0\">\n",
       "    <tspan class=\"displacy-word\" fill=\"currentColor\" x=\"3200\">and</tspan>\n",
       "    <tspan class=\"displacy-tag\" dy=\"2em\" fill=\"currentColor\" x=\"3200\">CCONJ</tspan>\n",
       "</text>\n",
       "\n",
       "<text class=\"displacy-token\" fill=\"currentColor\" text-anchor=\"middle\" y=\"397.0\">\n",
       "    <tspan class=\"displacy-word\" fill=\"currentColor\" x=\"3375\">with</tspan>\n",
       "    <tspan class=\"displacy-tag\" dy=\"2em\" fill=\"currentColor\" x=\"3375\">ADP</tspan>\n",
       "</text>\n",
       "\n",
       "<text class=\"displacy-token\" fill=\"currentColor\" text-anchor=\"middle\" y=\"397.0\">\n",
       "    <tspan class=\"displacy-word\" fill=\"currentColor\" x=\"3550\">the</tspan>\n",
       "    <tspan class=\"displacy-tag\" dy=\"2em\" fill=\"currentColor\" x=\"3550\">DET</tspan>\n",
       "</text>\n",
       "\n",
       "<text class=\"displacy-token\" fill=\"currentColor\" text-anchor=\"middle\" y=\"397.0\">\n",
       "    <tspan class=\"displacy-word\" fill=\"currentColor\" x=\"3725\">template</tspan>\n",
       "    <tspan class=\"displacy-tag\" dy=\"2em\" fill=\"currentColor\" x=\"3725\">NOUN</tspan>\n",
       "</text>\n",
       "\n",
       "<text class=\"displacy-token\" fill=\"currentColor\" text-anchor=\"middle\" y=\"397.0\">\n",
       "    <tspan class=\"displacy-word\" fill=\"currentColor\" x=\"3900\">called</tspan>\n",
       "    <tspan class=\"displacy-tag\" dy=\"2em\" fill=\"currentColor\" x=\"3900\">VERB</tspan>\n",
       "</text>\n",
       "\n",
       "<text class=\"displacy-token\" fill=\"currentColor\" text-anchor=\"middle\" y=\"397.0\">\n",
       "    <tspan class=\"displacy-word\" fill=\"currentColor\" x=\"4075\">FAKER</tspan>\n",
       "    <tspan class=\"displacy-tag\" dy=\"2em\" fill=\"currentColor\" x=\"4075\">PROPN</tspan>\n",
       "</text>\n",
       "\n",
       "<g class=\"displacy-arrow\">\n",
       "    <path class=\"displacy-arc\" id=\"arrow-31856561ffba49468ea95137cd2617bb-0-0\" stroke-width=\"2px\" d=\"M70,352.0 C70,177.0 565.0,177.0 565.0,352.0\" fill=\"none\" stroke=\"currentColor\"/>\n",
       "    <text dy=\"1.25em\" style=\"font-size: 0.8em; letter-spacing: 1px\">\n",
       "        <textPath xlink:href=\"#arrow-31856561ffba49468ea95137cd2617bb-0-0\" class=\"displacy-label\" startOffset=\"50%\" side=\"left\" fill=\"currentColor\" text-anchor=\"middle\">prep</textPath>\n",
       "    </text>\n",
       "    <path class=\"displacy-arrowhead\" d=\"M70,354.0 L62,342.0 78,342.0\" fill=\"currentColor\"/>\n",
       "</g>\n",
       "\n",
       "<g class=\"displacy-arrow\">\n",
       "    <path class=\"displacy-arc\" id=\"arrow-31856561ffba49468ea95137cd2617bb-0-1\" stroke-width=\"2px\" d=\"M70,352.0 C70,264.5 210.0,264.5 210.0,352.0\" fill=\"none\" stroke=\"currentColor\"/>\n",
       "    <text dy=\"1.25em\" style=\"font-size: 0.8em; letter-spacing: 1px\">\n",
       "        <textPath xlink:href=\"#arrow-31856561ffba49468ea95137cd2617bb-0-1\" class=\"displacy-label\" startOffset=\"50%\" side=\"left\" fill=\"currentColor\" text-anchor=\"middle\">pobj</textPath>\n",
       "    </text>\n",
       "    <path class=\"displacy-arrowhead\" d=\"M210.0,354.0 L218.0,342.0 202.0,342.0\" fill=\"currentColor\"/>\n",
       "</g>\n",
       "\n",
       "<g class=\"displacy-arrow\">\n",
       "    <path class=\"displacy-arc\" id=\"arrow-31856561ffba49468ea95137cd2617bb-0-2\" stroke-width=\"2px\" d=\"M245,352.0 C245,264.5 385.0,264.5 385.0,352.0\" fill=\"none\" stroke=\"currentColor\"/>\n",
       "    <text dy=\"1.25em\" style=\"font-size: 0.8em; letter-spacing: 1px\">\n",
       "        <textPath xlink:href=\"#arrow-31856561ffba49468ea95137cd2617bb-0-2\" class=\"displacy-label\" startOffset=\"50%\" side=\"left\" fill=\"currentColor\" text-anchor=\"middle\">nummod</textPath>\n",
       "    </text>\n",
       "    <path class=\"displacy-arrowhead\" d=\"M385.0,354.0 L393.0,342.0 377.0,342.0\" fill=\"currentColor\"/>\n",
       "</g>\n",
       "\n",
       "<g class=\"displacy-arrow\">\n",
       "    <path class=\"displacy-arc\" id=\"arrow-31856561ffba49468ea95137cd2617bb-0-3\" stroke-width=\"2px\" d=\"M770,352.0 C770,264.5 910.0,264.5 910.0,352.0\" fill=\"none\" stroke=\"currentColor\"/>\n",
       "    <text dy=\"1.25em\" style=\"font-size: 0.8em; letter-spacing: 1px\">\n",
       "        <textPath xlink:href=\"#arrow-31856561ffba49468ea95137cd2617bb-0-3\" class=\"displacy-label\" startOffset=\"50%\" side=\"left\" fill=\"currentColor\" text-anchor=\"middle\">det</textPath>\n",
       "    </text>\n",
       "    <path class=\"displacy-arrowhead\" d=\"M770,354.0 L762,342.0 778,342.0\" fill=\"currentColor\"/>\n",
       "</g>\n",
       "\n",
       "<g class=\"displacy-arrow\">\n",
       "    <path class=\"displacy-arc\" id=\"arrow-31856561ffba49468ea95137cd2617bb-0-4\" stroke-width=\"2px\" d=\"M595,352.0 C595,177.0 915.0,177.0 915.0,352.0\" fill=\"none\" stroke=\"currentColor\"/>\n",
       "    <text dy=\"1.25em\" style=\"font-size: 0.8em; letter-spacing: 1px\">\n",
       "        <textPath xlink:href=\"#arrow-31856561ffba49468ea95137cd2617bb-0-4\" class=\"displacy-label\" startOffset=\"50%\" side=\"left\" fill=\"currentColor\" text-anchor=\"middle\">dobj</textPath>\n",
       "    </text>\n",
       "    <path class=\"displacy-arrowhead\" d=\"M915.0,354.0 L923.0,342.0 907.0,342.0\" fill=\"currentColor\"/>\n",
       "</g>\n",
       "\n",
       "<g class=\"displacy-arrow\">\n",
       "    <path class=\"displacy-arc\" id=\"arrow-31856561ffba49468ea95137cd2617bb-0-5\" stroke-width=\"2px\" d=\"M945,352.0 C945,264.5 1085.0,264.5 1085.0,352.0\" fill=\"none\" stroke=\"currentColor\"/>\n",
       "    <text dy=\"1.25em\" style=\"font-size: 0.8em; letter-spacing: 1px\">\n",
       "        <textPath xlink:href=\"#arrow-31856561ffba49468ea95137cd2617bb-0-5\" class=\"displacy-label\" startOffset=\"50%\" side=\"left\" fill=\"currentColor\" text-anchor=\"middle\">acl</textPath>\n",
       "    </text>\n",
       "    <path class=\"displacy-arrowhead\" d=\"M1085.0,354.0 L1093.0,342.0 1077.0,342.0\" fill=\"currentColor\"/>\n",
       "</g>\n",
       "\n",
       "<g class=\"displacy-arrow\">\n",
       "    <path class=\"displacy-arc\" id=\"arrow-31856561ffba49468ea95137cd2617bb-0-6\" stroke-width=\"2px\" d=\"M1120,352.0 C1120,264.5 1260.0,264.5 1260.0,352.0\" fill=\"none\" stroke=\"currentColor\"/>\n",
       "    <text dy=\"1.25em\" style=\"font-size: 0.8em; letter-spacing: 1px\">\n",
       "        <textPath xlink:href=\"#arrow-31856561ffba49468ea95137cd2617bb-0-6\" class=\"displacy-label\" startOffset=\"50%\" side=\"left\" fill=\"currentColor\" text-anchor=\"middle\">oprd</textPath>\n",
       "    </text>\n",
       "    <path class=\"displacy-arrowhead\" d=\"M1260.0,354.0 L1268.0,342.0 1252.0,342.0\" fill=\"currentColor\"/>\n",
       "</g>\n",
       "\n",
       "<g class=\"displacy-arrow\">\n",
       "    <path class=\"displacy-arc\" id=\"arrow-31856561ffba49468ea95137cd2617bb-0-7\" stroke-width=\"2px\" d=\"M945,352.0 C945,177.0 1440.0,177.0 1440.0,352.0\" fill=\"none\" stroke=\"currentColor\"/>\n",
       "    <text dy=\"1.25em\" style=\"font-size: 0.8em; letter-spacing: 1px\">\n",
       "        <textPath xlink:href=\"#arrow-31856561ffba49468ea95137cd2617bb-0-7\" class=\"displacy-label\" startOffset=\"50%\" side=\"left\" fill=\"currentColor\" text-anchor=\"middle\">prep</textPath>\n",
       "    </text>\n",
       "    <path class=\"displacy-arrowhead\" d=\"M1440.0,354.0 L1448.0,342.0 1432.0,342.0\" fill=\"currentColor\"/>\n",
       "</g>\n",
       "\n",
       "<g class=\"displacy-arrow\">\n",
       "    <path class=\"displacy-arc\" id=\"arrow-31856561ffba49468ea95137cd2617bb-0-8\" stroke-width=\"2px\" d=\"M1645,352.0 C1645,264.5 1785.0,264.5 1785.0,352.0\" fill=\"none\" stroke=\"currentColor\"/>\n",
       "    <text dy=\"1.25em\" style=\"font-size: 0.8em; letter-spacing: 1px\">\n",
       "        <textPath xlink:href=\"#arrow-31856561ffba49468ea95137cd2617bb-0-8\" class=\"displacy-label\" startOffset=\"50%\" side=\"left\" fill=\"currentColor\" text-anchor=\"middle\">det</textPath>\n",
       "    </text>\n",
       "    <path class=\"displacy-arrowhead\" d=\"M1645,354.0 L1637,342.0 1653,342.0\" fill=\"currentColor\"/>\n",
       "</g>\n",
       "\n",
       "<g class=\"displacy-arrow\">\n",
       "    <path class=\"displacy-arc\" id=\"arrow-31856561ffba49468ea95137cd2617bb-0-9\" stroke-width=\"2px\" d=\"M1470,352.0 C1470,177.0 1790.0,177.0 1790.0,352.0\" fill=\"none\" stroke=\"currentColor\"/>\n",
       "    <text dy=\"1.25em\" style=\"font-size: 0.8em; letter-spacing: 1px\">\n",
       "        <textPath xlink:href=\"#arrow-31856561ffba49468ea95137cd2617bb-0-9\" class=\"displacy-label\" startOffset=\"50%\" side=\"left\" fill=\"currentColor\" text-anchor=\"middle\">pobj</textPath>\n",
       "    </text>\n",
       "    <path class=\"displacy-arrowhead\" d=\"M1790.0,354.0 L1798.0,342.0 1782.0,342.0\" fill=\"currentColor\"/>\n",
       "</g>\n",
       "\n",
       "<g class=\"displacy-arrow\">\n",
       "    <path class=\"displacy-arc\" id=\"arrow-31856561ffba49468ea95137cd2617bb-0-10\" stroke-width=\"2px\" d=\"M1995,352.0 C1995,177.0 2315.0,177.0 2315.0,352.0\" fill=\"none\" stroke=\"currentColor\"/>\n",
       "    <text dy=\"1.25em\" style=\"font-size: 0.8em; letter-spacing: 1px\">\n",
       "        <textPath xlink:href=\"#arrow-31856561ffba49468ea95137cd2617bb-0-10\" class=\"displacy-label\" startOffset=\"50%\" side=\"left\" fill=\"currentColor\" text-anchor=\"middle\">nummod</textPath>\n",
       "    </text>\n",
       "    <path class=\"displacy-arrowhead\" d=\"M1995,354.0 L1987,342.0 2003,342.0\" fill=\"currentColor\"/>\n",
       "</g>\n",
       "\n",
       "<g class=\"displacy-arrow\">\n",
       "    <path class=\"displacy-arc\" id=\"arrow-31856561ffba49468ea95137cd2617bb-0-11\" stroke-width=\"2px\" d=\"M2170,352.0 C2170,264.5 2310.0,264.5 2310.0,352.0\" fill=\"none\" stroke=\"currentColor\"/>\n",
       "    <text dy=\"1.25em\" style=\"font-size: 0.8em; letter-spacing: 1px\">\n",
       "        <textPath xlink:href=\"#arrow-31856561ffba49468ea95137cd2617bb-0-11\" class=\"displacy-label\" startOffset=\"50%\" side=\"left\" fill=\"currentColor\" text-anchor=\"middle\">compound</textPath>\n",
       "    </text>\n",
       "    <path class=\"displacy-arrowhead\" d=\"M2170,354.0 L2162,342.0 2178,342.0\" fill=\"currentColor\"/>\n",
       "</g>\n",
       "\n",
       "<g class=\"displacy-arrow\">\n",
       "    <path class=\"displacy-arc\" id=\"arrow-31856561ffba49468ea95137cd2617bb-0-12\" stroke-width=\"2px\" d=\"M1820,352.0 C1820,89.5 2320.0,89.5 2320.0,352.0\" fill=\"none\" stroke=\"currentColor\"/>\n",
       "    <text dy=\"1.25em\" style=\"font-size: 0.8em; letter-spacing: 1px\">\n",
       "        <textPath xlink:href=\"#arrow-31856561ffba49468ea95137cd2617bb-0-12\" class=\"displacy-label\" startOffset=\"50%\" side=\"left\" fill=\"currentColor\" text-anchor=\"middle\">appos</textPath>\n",
       "    </text>\n",
       "    <path class=\"displacy-arrowhead\" d=\"M2320.0,354.0 L2328.0,342.0 2312.0,342.0\" fill=\"currentColor\"/>\n",
       "</g>\n",
       "\n",
       "<g class=\"displacy-arrow\">\n",
       "    <path class=\"displacy-arc\" id=\"arrow-31856561ffba49468ea95137cd2617bb-0-13\" stroke-width=\"2px\" d=\"M595,352.0 C595,2.0 2500.0,2.0 2500.0,352.0\" fill=\"none\" stroke=\"currentColor\"/>\n",
       "    <text dy=\"1.25em\" style=\"font-size: 0.8em; letter-spacing: 1px\">\n",
       "        <textPath xlink:href=\"#arrow-31856561ffba49468ea95137cd2617bb-0-13\" class=\"displacy-label\" startOffset=\"50%\" side=\"left\" fill=\"currentColor\" text-anchor=\"middle\">conj</textPath>\n",
       "    </text>\n",
       "    <path class=\"displacy-arrowhead\" d=\"M2500.0,354.0 L2508.0,342.0 2492.0,342.0\" fill=\"currentColor\"/>\n",
       "</g>\n",
       "\n",
       "<g class=\"displacy-arrow\">\n",
       "    <path class=\"displacy-arc\" id=\"arrow-31856561ffba49468ea95137cd2617bb-0-14\" stroke-width=\"2px\" d=\"M2520,352.0 C2520,264.5 2660.0,264.5 2660.0,352.0\" fill=\"none\" stroke=\"currentColor\"/>\n",
       "    <text dy=\"1.25em\" style=\"font-size: 0.8em; letter-spacing: 1px\">\n",
       "        <textPath xlink:href=\"#arrow-31856561ffba49468ea95137cd2617bb-0-14\" class=\"displacy-label\" startOffset=\"50%\" side=\"left\" fill=\"currentColor\" text-anchor=\"middle\">prep</textPath>\n",
       "    </text>\n",
       "    <path class=\"displacy-arrowhead\" d=\"M2660.0,354.0 L2668.0,342.0 2652.0,342.0\" fill=\"currentColor\"/>\n",
       "</g>\n",
       "\n",
       "<g class=\"displacy-arrow\">\n",
       "    <path class=\"displacy-arc\" id=\"arrow-31856561ffba49468ea95137cd2617bb-0-15\" stroke-width=\"2px\" d=\"M2870,352.0 C2870,264.5 3010.0,264.5 3010.0,352.0\" fill=\"none\" stroke=\"currentColor\"/>\n",
       "    <text dy=\"1.25em\" style=\"font-size: 0.8em; letter-spacing: 1px\">\n",
       "        <textPath xlink:href=\"#arrow-31856561ffba49468ea95137cd2617bb-0-15\" class=\"displacy-label\" startOffset=\"50%\" side=\"left\" fill=\"currentColor\" text-anchor=\"middle\">nummod</textPath>\n",
       "    </text>\n",
       "    <path class=\"displacy-arrowhead\" d=\"M2870,354.0 L2862,342.0 2878,342.0\" fill=\"currentColor\"/>\n",
       "</g>\n",
       "\n",
       "<g class=\"displacy-arrow\">\n",
       "    <path class=\"displacy-arc\" id=\"arrow-31856561ffba49468ea95137cd2617bb-0-16\" stroke-width=\"2px\" d=\"M2695,352.0 C2695,177.0 3015.0,177.0 3015.0,352.0\" fill=\"none\" stroke=\"currentColor\"/>\n",
       "    <text dy=\"1.25em\" style=\"font-size: 0.8em; letter-spacing: 1px\">\n",
       "        <textPath xlink:href=\"#arrow-31856561ffba49468ea95137cd2617bb-0-16\" class=\"displacy-label\" startOffset=\"50%\" side=\"left\" fill=\"currentColor\" text-anchor=\"middle\">pobj</textPath>\n",
       "    </text>\n",
       "    <path class=\"displacy-arrowhead\" d=\"M3015.0,354.0 L3023.0,342.0 3007.0,342.0\" fill=\"currentColor\"/>\n",
       "</g>\n",
       "\n",
       "<g class=\"displacy-arrow\">\n",
       "    <path class=\"displacy-arc\" id=\"arrow-31856561ffba49468ea95137cd2617bb-0-17\" stroke-width=\"2px\" d=\"M2520,352.0 C2520,89.5 3195.0,89.5 3195.0,352.0\" fill=\"none\" stroke=\"currentColor\"/>\n",
       "    <text dy=\"1.25em\" style=\"font-size: 0.8em; letter-spacing: 1px\">\n",
       "        <textPath xlink:href=\"#arrow-31856561ffba49468ea95137cd2617bb-0-17\" class=\"displacy-label\" startOffset=\"50%\" side=\"left\" fill=\"currentColor\" text-anchor=\"middle\">cc</textPath>\n",
       "    </text>\n",
       "    <path class=\"displacy-arrowhead\" d=\"M3195.0,354.0 L3203.0,342.0 3187.0,342.0\" fill=\"currentColor\"/>\n",
       "</g>\n",
       "\n",
       "<g class=\"displacy-arrow\">\n",
       "    <path class=\"displacy-arc\" id=\"arrow-31856561ffba49468ea95137cd2617bb-0-18\" stroke-width=\"2px\" d=\"M2520,352.0 C2520,2.0 3375.0,2.0 3375.0,352.0\" fill=\"none\" stroke=\"currentColor\"/>\n",
       "    <text dy=\"1.25em\" style=\"font-size: 0.8em; letter-spacing: 1px\">\n",
       "        <textPath xlink:href=\"#arrow-31856561ffba49468ea95137cd2617bb-0-18\" class=\"displacy-label\" startOffset=\"50%\" side=\"left\" fill=\"currentColor\" text-anchor=\"middle\">conj</textPath>\n",
       "    </text>\n",
       "    <path class=\"displacy-arrowhead\" d=\"M3375.0,354.0 L3383.0,342.0 3367.0,342.0\" fill=\"currentColor\"/>\n",
       "</g>\n",
       "\n",
       "<g class=\"displacy-arrow\">\n",
       "    <path class=\"displacy-arc\" id=\"arrow-31856561ffba49468ea95137cd2617bb-0-19\" stroke-width=\"2px\" d=\"M3570,352.0 C3570,264.5 3710.0,264.5 3710.0,352.0\" fill=\"none\" stroke=\"currentColor\"/>\n",
       "    <text dy=\"1.25em\" style=\"font-size: 0.8em; letter-spacing: 1px\">\n",
       "        <textPath xlink:href=\"#arrow-31856561ffba49468ea95137cd2617bb-0-19\" class=\"displacy-label\" startOffset=\"50%\" side=\"left\" fill=\"currentColor\" text-anchor=\"middle\">det</textPath>\n",
       "    </text>\n",
       "    <path class=\"displacy-arrowhead\" d=\"M3570,354.0 L3562,342.0 3578,342.0\" fill=\"currentColor\"/>\n",
       "</g>\n",
       "\n",
       "<g class=\"displacy-arrow\">\n",
       "    <path class=\"displacy-arc\" id=\"arrow-31856561ffba49468ea95137cd2617bb-0-20\" stroke-width=\"2px\" d=\"M3395,352.0 C3395,177.0 3715.0,177.0 3715.0,352.0\" fill=\"none\" stroke=\"currentColor\"/>\n",
       "    <text dy=\"1.25em\" style=\"font-size: 0.8em; letter-spacing: 1px\">\n",
       "        <textPath xlink:href=\"#arrow-31856561ffba49468ea95137cd2617bb-0-20\" class=\"displacy-label\" startOffset=\"50%\" side=\"left\" fill=\"currentColor\" text-anchor=\"middle\">pobj</textPath>\n",
       "    </text>\n",
       "    <path class=\"displacy-arrowhead\" d=\"M3715.0,354.0 L3723.0,342.0 3707.0,342.0\" fill=\"currentColor\"/>\n",
       "</g>\n",
       "\n",
       "<g class=\"displacy-arrow\">\n",
       "    <path class=\"displacy-arc\" id=\"arrow-31856561ffba49468ea95137cd2617bb-0-21\" stroke-width=\"2px\" d=\"M3745,352.0 C3745,264.5 3885.0,264.5 3885.0,352.0\" fill=\"none\" stroke=\"currentColor\"/>\n",
       "    <text dy=\"1.25em\" style=\"font-size: 0.8em; letter-spacing: 1px\">\n",
       "        <textPath xlink:href=\"#arrow-31856561ffba49468ea95137cd2617bb-0-21\" class=\"displacy-label\" startOffset=\"50%\" side=\"left\" fill=\"currentColor\" text-anchor=\"middle\">acl</textPath>\n",
       "    </text>\n",
       "    <path class=\"displacy-arrowhead\" d=\"M3885.0,354.0 L3893.0,342.0 3877.0,342.0\" fill=\"currentColor\"/>\n",
       "</g>\n",
       "\n",
       "<g class=\"displacy-arrow\">\n",
       "    <path class=\"displacy-arc\" id=\"arrow-31856561ffba49468ea95137cd2617bb-0-22\" stroke-width=\"2px\" d=\"M3920,352.0 C3920,264.5 4060.0,264.5 4060.0,352.0\" fill=\"none\" stroke=\"currentColor\"/>\n",
       "    <text dy=\"1.25em\" style=\"font-size: 0.8em; letter-spacing: 1px\">\n",
       "        <textPath xlink:href=\"#arrow-31856561ffba49468ea95137cd2617bb-0-22\" class=\"displacy-label\" startOffset=\"50%\" side=\"left\" fill=\"currentColor\" text-anchor=\"middle\">oprd</textPath>\n",
       "    </text>\n",
       "    <path class=\"displacy-arrowhead\" d=\"M4060.0,354.0 L4068.0,342.0 4052.0,342.0\" fill=\"currentColor\"/>\n",
       "</g>\n",
       "</svg></span>"
      ],
      "text/plain": [
       "<IPython.core.display.HTML object>"
      ]
     },
     "metadata": {},
     "output_type": "display_data"
    }
   ],
   "source": [
    "spacy.displacy.render(testNlp, style=\"dep\")"
   ]
  }
 ],
 "metadata": {
  "kernelspec": {
   "display_name": "Python 3",
   "language": "python",
   "name": "python3"
  },
  "language_info": {
   "codemirror_mode": {
    "name": "ipython",
    "version": 3
   },
   "file_extension": ".py",
   "mimetype": "text/x-python",
   "name": "python",
   "nbconvert_exporter": "python",
   "pygments_lexer": "ipython3",
   "version": "3.11.7"
  }
 },
 "nbformat": 4,
 "nbformat_minor": 2
}
