{
 "cells": [
  {
   "cell_type": "code",
   "execution_count": 12,
   "metadata": {},
   "outputs": [
    {
     "data": {
      "text/plain": [
       "<module 'ogree_wiki' from 'c:\\\\Users\\\\thoxy\\\\OneDrive\\\\Documents\\\\IMT-PJENT\\\\Python\\\\ogree_wiki.py'>"
      ]
     },
     "execution_count": 12,
     "metadata": {},
     "output_type": "execute_result"
    }
   ],
   "source": [
    "import spacy\n",
    "nlp = spacy.load(\"en_core_web_lg\")\n",
    "\n",
    "import numpy as np\n",
    "import re\n",
    "import importlib\n",
    "\n",
    "import ogree_wiki as wiki\n",
    "importlib.reload(wiki)"
   ]
  },
  {
   "cell_type": "code",
   "execution_count": 2,
   "metadata": {},
   "outputs": [
    {
     "name": "stdout",
     "output_type": "stream",
     "text": [
      "True\n",
      "True\n"
     ]
    },
    {
     "data": {
      "text/plain": [
       "['name',\n",
       " 'position',\n",
       " 'rotation',\n",
       " 'size',\n",
       " 'axisOrientation',\n",
       " 'floorUnit',\n",
       " 'template']"
      ]
     },
     "execution_count": 2,
     "metadata": {},
     "output_type": "execute_result"
    }
   ],
   "source": [
    "print(wiki.conformityParameter(\"building\",\"size\",[20,30,40]))\n",
    "\n",
    "salle = wiki.Room(\"J140\",[10,10],30,[10,10,10],\"+x +y\",\"t\")\n",
    "print(salle.isConform())\n",
    "\n",
    "wiki.listAllParameter(\"room\")"
   ]
  },
  {
   "cell_type": "code",
   "execution_count": 3,
   "metadata": {},
   "outputs": [],
   "source": [
    "# Explicit lists of possible actions\n",
    "ACTIONS = {\n",
    "                    \"ACTION_POSITIVE\" : [\"make\",\"build\",\"put\",\"place\"],\n",
    "                    \"ACTION_NEGATIVE\" : [\"remove\", \"delete\",\"nuke\"], \n",
    "                    \"ALTER_PARAMETERS\" : [\"modify\", \"change\",\"move\"]\n",
    "                    }\n",
    "\n",
    "ACTIONS_DEFAULT = {\n",
    "                    \"ACTION_POSITIVE\" : [\"make\",\"build\",\"put\",\"place\"],\n",
    "                    \"ACTION_NEGATIVE\" : [\"remove\", \"delete\"], \n",
    "                    \"ALTERATION\" : [\"modify\", \"change\",\"move\"]\n",
    "                    }\n",
    "\n",
    "ACTIONS_CLI = {\n",
    "                \"ACTION_POSITIVE\" : \"+\",\n",
    "                \"ACTION_NEGATIVE\" : \"-\"\n",
    "                }\n",
    "\n",
    "SIMILARITY_PARAMETER = 0.5\n",
    "\n"
   ]
  },
  {
   "cell_type": "code",
   "execution_count": 4,
   "metadata": {},
   "outputs": [
    {
     "data": {
      "text/plain": [
       "(True, '+')"
      ]
     },
     "execution_count": 4,
     "metadata": {},
     "output_type": "execute_result"
    }
   ],
   "source": [
    "def identifyAction(entry : str, dictio_actions : dict = ACTIONS_DEFAULT) -> bool:\n",
    "\n",
    "    match = False\n",
    "\n",
    "    # try :\n",
    "    #     entry = str(input(\"Action word : \")).lower()\n",
    "\n",
    "    # except ValueError :\n",
    "    #     print(\"Invalid input, please try again\")\n",
    "    \n",
    "    entry_doc = nlp(entry)\n",
    "\n",
    "    if len(entry_doc) > 1 :\n",
    "        print('Too many words')\n",
    "\n",
    "    entry_doc = nlp(entry_doc[0].lemma_) # The lemmatization could and maybe should be removed here\n",
    "\n",
    "    distance_from_action = []\n",
    "    for liste in list(dictio_actions.values()) :\n",
    "        distance_from_word = []\n",
    "        for word in liste :\n",
    "            distance_from_word.append(nlp(word)[0].similarity(entry_doc[0]))\n",
    "        distance_from_action.append(max(distance_from_word))\n",
    "\n",
    "    # make a boolean list based on the criteria match or not\n",
    "    distance_from_action_criteria = list(map(lambda x : x >= SIMILARITY_PARAMETER, distance_from_action))\n",
    "\n",
    "    if sum(distance_from_action_criteria) >= 1 :\n",
    "        # if one or more actions is matching, return the \"more\" matching one\n",
    "        action_identified = list(dictio_actions.keys())[distance_from_action.index(max(distance_from_action))]\n",
    "        global operator\n",
    "        operator = ACTIONS_CLI[action_identified] if action_identified != \"ALTERATION\" else \"\"\n",
    "        match = True\n",
    "        # print(action_identified + operator)\n",
    "\n",
    "    # else :\n",
    "    #     print(\"No matching action, please try again\")\n",
    "\n",
    "    return match,operator\n",
    "\n",
    "identifyAction(\"make\")"
   ]
  },
  {
   "cell_type": "code",
   "execution_count": 5,
   "metadata": {},
   "outputs": [],
   "source": [
    "def similar(word1 : str, word2 : str) -> float :\n",
    "    doc1 = nlp(word1+\" \"+word2)\n",
    "    return doc1[0].similarity(doc1[1])"
   ]
  },
  {
   "cell_type": "code",
   "execution_count": 35,
   "metadata": {},
   "outputs": [
    {
     "data": {
      "text/plain": [
       "0.6233131885528564"
      ]
     },
     "execution_count": 35,
     "metadata": {},
     "output_type": "execute_result"
    }
   ],
   "source": [
    "similar(\"named\", \"called\")"
   ]
  },
  {
   "cell_type": "code",
   "execution_count": 7,
   "metadata": {},
   "outputs": [],
   "source": [
    "DICTIO_CURRENT = { \"site\" : \"IMT\",\n",
    "                    \"building\" : \"A\",\n",
    "                    \"room\" : \"001\",\n",
    "                    \"rack\" : \"RK1\"\n",
    "}\n",
    "\n",
    "HIERARCHY_WORDS = [\"in\"]\n",
    "HIERARCHY_BASE_CLI = \"/P\"\n",
    "\n",
    "def parentName(entity : str) -> str :\n",
    "    ENTITIES_FULL_NAME = list(wiki.ENTITIES.keys())\n",
    "\n",
    "    if entity in ENTITIES_FULL_NAME :\n",
    "        index = ENTITIES_FULL_NAME.index(entity)\n",
    "        if index == 0 :\n",
    "            return entity\n",
    "        else :\n",
    "            return ENTITIES_FULL_NAME[index-1]\n",
    "    \n",
    "# TODO : refer to parent rather than current entity name\n",
    "def parentAll(entity : str) -> str :\n",
    "    ENTITIES_FULL_NAME = wiki.ENTITIES.keys()\n",
    "\n",
    "    final = \"\"\n",
    "\n",
    "    if entity in ENTITIES_FULL_NAME :\n",
    "        current_entity = entity\n",
    "        hierarchy_name_list = []\n",
    "        while parentName(current_entity) != current_entity :\n",
    "            current_entity = parentName(current_entity)\n",
    "            hierarchy_name_list.append(DICTIO_CURRENT[current_entity])\n",
    "\n",
    "    final += HIERARCHY_BASE_CLI +\"/\"\n",
    "    final += \"/\".join(hierarchy_name_list[::-1])\n",
    "    final += \"/\" if bool(hierarchy_name_list) == True else \"\"\n",
    "\n",
    "    return final"
   ]
  },
  {
   "cell_type": "code",
   "execution_count": 8,
   "metadata": {},
   "outputs": [
    {
     "data": {
      "text/plain": [
       "'/P/'"
      ]
     },
     "execution_count": 8,
     "metadata": {},
     "output_type": "execute_result"
    }
   ],
   "source": [
    "parentAll(\"site\")"
   ]
  },
  {
   "cell_type": "code",
   "execution_count": 36,
   "metadata": {},
   "outputs": [],
   "source": [
    "def nextKeyWord(keyword_list : list, sentence : type(nlp(\"\")), start_index : int) -> int :\n",
    "    for token in sentence[start_index:] :\n",
    "        if sum(list(map(lambda x : x > SIMILARITY_PARAMETER, [similar(str(token), word) for word in keyword_list]))) >= 1 : # if the token is close to a keyword\n",
    "            return list(sentence).index(token)\n",
    "    return len(sentence)\n",
    "\n",
    "def lastKeyWord(keyword_list : list, sentence : type(nlp(\"\")), start_index : int) -> int :\n",
    "    for token in list(sentence)[start_index:-1:-1] :\n",
    "        if sum(list(map(lambda x : x > SIMILARITY_PARAMETER, [similar(str(token), word) for word in keyword_list]))) >= 1 : # if the token is close to a keyword\n",
    "            return list(sentence).index(token)\n",
    "    return 0\n",
    "\n",
    "def lastEntity(sentence : type(nlp(\"\")), start_index : int) -> int :\n",
    "    ENTITIES_FULL_NAME = list(wiki.ENTITIES.keys())\n",
    "    for token in list(sentence)[start_index:-1:-1] :\n",
    "        if str(token) in ENTITIES_FULL_NAME : # if the token is an entity\n",
    "            return list(sentence).index(token)\n",
    "    return None\n"
   ]
  },
  {
   "cell_type": "code",
   "execution_count": 37,
   "metadata": {},
   "outputs": [],
   "source": [
    "def main() -> list :\n",
    "    ENTITIES_FULL_NAME = list(wiki.ENTITIES.keys())\n",
    "    FINAL_INSTRUCTIONS = []\n",
    "    PROMPT_VERBS = []\n",
    "    PROMPT_ENTITIES = {} \n",
    "    PROMPT_ENTITIES_RELATION = {} # the index and its relation\n",
    "    PROMPT_ENTITIES_PARAMETERS = {}\n",
    "\n",
    "    NAME_WORDS = [\"called\"]\n",
    "    LOCATION_WORDS = [\"position\",\"at\",\"located\"]\n",
    "    ROTATION_WORDS = [\"rotation\",\"turned\",\"degree\"]\n",
    "    TEMPLATE_WORDS = [\"template\"]\n",
    "\n",
    "    KEY_WORDS = ENTITIES_FULL_NAME + NAME_WORDS + LOCATION_WORDS + ROTATION_WORDS + TEMPLATE_WORDS\n",
    "\n",
    "    RELATION_TYPE = [\"ACTION\",\"HIERARCHY\"]\n",
    "        \n",
    "    print(\"Prompt instructions :\")\n",
    "    print(\"  - Prefer multiple easy short sentences\")\n",
    "    print(\"  - Please write only one action per entry\")\n",
    "    print(\"  - Please write explicitly the entities naming (e.g. building...)\")\n",
    "    print(\"  - Keep in mind there is no memorization for the moment\")\n",
    "    print(\"  - Please prefer writing in UPPERCASE the name given to an entity created (e.g. RACK1 )\")\n",
    "    print(\"  - Please write numbers in digits\")\n",
    "    natural_entry = input(\"Enter a prompt. Please follow the instructions given.\")\n",
    "    processed_entry = nlp(natural_entry)\n",
    "    pos_entry = [token.pos_ for token in processed_entry]\n",
    "\n",
    "\n",
    "    # identify verbs and entities\n",
    "    for i in range(len(pos_entry)) :\n",
    "        # if pos_entry[i] == \"VERB\" and identifyAction(str(processed_entry[i])) :\n",
    "        #     PROMPT_VERBS.append(i)\n",
    "        if str(processed_entry[i]) in ENTITIES_FULL_NAME :\n",
    "            if PROMPT_ENTITIES.get(str(processed_entry[i])) != None :\n",
    "                raise Exception(\"Two same entities were mentionned, please avoid\")\n",
    "            PROMPT_ENTITIES_RELATION[i] = None\n",
    "            PROMPT_ENTITIES[i] = str(processed_entry[i])\n",
    "            PROMPT_ENTITIES_PARAMETERS[i] = wiki.makeDictParam(str(processed_entry[i]))\n",
    "            print(PROMPT_ENTITIES_PARAMETERS[i])\n",
    "\n",
    "    if bool(PROMPT_ENTITIES.keys()) == 0 :\n",
    "        raise Exception(\"No entity identified, please try again\")\n",
    "    \n",
    "    # if bool(PROMPT_VERBS) == 0 :\n",
    "    #     raise Exception(\"No action identified, please try again\")\n",
    "    \n",
    "    # identify relations for each entity recognized\n",
    "    for index in PROMPT_ENTITIES.keys() :\n",
    "        checked = False\n",
    "        counter = 0\n",
    "        currentWordIndex = int(index)\n",
    "        while checked == False and counter < 5 :\n",
    "            currentWord = processed_entry[currentWordIndex].head\n",
    "            currentWordIndex = list(processed_entry).index(currentWord)\n",
    "            if identifyAction(str(currentWord))[0] and currentWord.pos_ == \"VERB\":\n",
    "                PROMPT_ENTITIES_RELATION[index] = (\"ACTION\",currentWordIndex)\n",
    "                checked = True\n",
    "            elif sum(list(map(lambda x : x > SIMILARITY_PARAMETER, [similar(str(currentWord), word) for word in HIERARCHY_WORDS]))) >= 1 :\n",
    "                PROMPT_ENTITIES_RELATION[index] = (\"HIERARCHY\",currentWordIndex)\n",
    "                checked = True\n",
    "            counter += 1\n",
    "            \n",
    "        if counter == 5 :\n",
    "            raise Exception(\"Interpretation issue : no relation found, please try again\")\n",
    "\n",
    "        \n",
    "    relation_list = [PROMPT_ENTITIES_RELATION[i][0] for i in PROMPT_ENTITIES_RELATION.keys()]\n",
    "    if not \"ACTION\" in relation_list or relation_list.count(\"ACTION\") > 1 : \n",
    "        raise Exception(\"Matching issue, please reformulate\")\n",
    "    index_entity_action = [index for index in PROMPT_ENTITIES_RELATION.keys() if PROMPT_ENTITIES_RELATION[index][0] == \"ACTION\"][0] # len should be 1\n",
    "        \n",
    "    for i in [index for index in PROMPT_ENTITIES_RELATION.keys() if PROMPT_ENTITIES_RELATION[index][0] == \"HIERARCHY\"] : # if not right hierarchy\n",
    "        if ENTITIES_FULL_NAME.index(str(processed_entry[i])) > ENTITIES_FULL_NAME.index(str(processed_entry[index_entity_action])) :\n",
    "            PROMPT_ENTITIES_RELATION.pop(i)\n",
    "    \n",
    "    # identify names\n",
    "    for index in range(len(processed_entry)) : # if the name is referenced with a \"called\" or equivalent\n",
    "        # if the token is a synonym of called\n",
    "        if sum(list(map(lambda x : x > SIMILARITY_PARAMETER, [similar(str(processed_entry[index]), word) for word in NAME_WORDS]))) >= 1 :\n",
    "            # if head points to entity\n",
    "            if str(processed_entry[index].head) in ENTITIES_FULL_NAME and index+1 <= len(list(processed_entry)) and processed_entry[index+1].head == processed_entry[index] : \n",
    "                PROMPT_ENTITIES_PARAMETERS[list(processed_entry).index(processed_entry[index].head)][\"name\"] = str(processed_entry[index+1])\n",
    "            \n",
    "            # if head points to the action verb (associated to the entity)\n",
    "            if processed_entry[index].head == processed_entry[PROMPT_ENTITIES_RELATION[index_entity_action][1]] and index+1 <= len(list(processed_entry)) and processed_entry[index+1].head == processed_entry[index] : # if head points to action\n",
    "                PROMPT_ENTITIES_PARAMETERS[index_entity_action][\"name\"] = str(processed_entry[index+1])\n",
    "\n",
    "            # if the name is just next to the token\n",
    "            if str(processed_entry[index+1]).isupper() or pos_entry[index+1] in [\"NOUN\",\"PROPN\"] :\n",
    "                    index_to_assign = lastEntity(processed_entry, index-1) if not lastEntity(processed_entry, index-1) == None else index_entity_action\n",
    "                    PROMPT_ENTITIES_PARAMETERS[index_to_assign][\"name\"] = str(processed_entry[index+1])\n",
    "    \n",
    "    # if all names not identified yet\n",
    "    if None in [PROMPT_ENTITIES_PARAMETERS[index][\"name\"] for index in PROMPT_ENTITIES.keys()] :\n",
    "        for index in PROMPT_ENTITIES.keys() : # if the name if right beside the entity\n",
    "            if 0 <= index +1 <= len(processed_entry)-1 :\n",
    "                if str(processed_entry[index+1]).isupper() or pos_entry[index+1] in [\"NOUN\",\"PROPN\"] :\n",
    "                    PROMPT_ENTITIES_PARAMETERS[index][\"name\"] = str(processed_entry[index+1])\n",
    "            if 0 <= index -1 <= len(processed_entry)-1 :\n",
    "                if str(processed_entry[index-1]).isupper() or pos_entry[index-1] == [\"NOUN\",\"PROPN\"] :\n",
    "                    PROMPT_ENTITIES_PARAMETERS[index][\"name\"] = str(processed_entry[index-1])\n",
    "\n",
    "    # if nothing worked\n",
    "    if None in [PROMPT_ENTITIES_PARAMETERS[index][\"name\"] for index in PROMPT_ENTITIES.keys()] :\n",
    "        list_none = [index for index in PROMPT_ENTITIES.keys() if PROMPT_ENTITIES_PARAMETERS[index][\"name\"] == None]\n",
    "        for index in list_none :\n",
    "            PROMPT_ENTITIES_PARAMETERS[index][\"name\"] = DICTIO_CURRENT[PROMPT_ENTITIES[index]]\n",
    "    \n",
    "    # raise Exception(\"Missing names\")\n",
    "    \n",
    "    # identify other parameters : at time only for building\n",
    "    # TODO : make sure the parameters are refering to the right entity\n",
    "    for index in range(len(processed_entry)) :\n",
    "\n",
    "        if str(processed_entry[index]) in ENTITIES_FULL_NAME :\n",
    "            continue\n",
    "\n",
    "        if PROMPT_ENTITIES[index_entity_action] == \"site\" :\n",
    "            continue\n",
    "\n",
    "        # position\n",
    "        if sum(list(map(lambda x : x > SIMILARITY_PARAMETER, [similar(str(processed_entry[index]), word) for word in LOCATION_WORDS]))) >= 1 and PROMPT_ENTITIES_PARAMETERS[index_entity_action][\"position\"] == None :\n",
    "            # search for keywords to the right and left to split whole sentence into parts where to look for param entries\n",
    "            next_keyword_index_position = nextKeyWord(KEY_WORDS,processed_entry,index+1)\n",
    "            last_keyword_index_position = lastKeyWord(KEY_WORDS,processed_entry,index-1)\n",
    "            position_list = re.findall(\"[-]*[0-9]+[.]*[0-9]*\", \" \".join([str(token) for token in processed_entry[index+1:next_keyword_index_position]]))\n",
    "            if not len(position_list) == 2 :\n",
    "                position_list_left = re.findall(\"[-]*[0-9]+[.]*[0-9]*\", \" \".join([str(token) for token in processed_entry[last_keyword_index_position:index]]))\n",
    "                if not len(position_list_left) == 2 :\n",
    "                    raise Exception(\"Wrong location format entered\")\n",
    "                else :\n",
    "                    position_list = position_list_left\n",
    "            # TODO : refine with x/y matching\n",
    "            PROMPT_ENTITIES_PARAMETERS[index_entity_action][\"position\"] = [float(position_list[0]),float(position_list[1])]\n",
    "\n",
    "            continue\n",
    "        \n",
    "        # rotation\n",
    "        if sum(list(map(lambda x : x > SIMILARITY_PARAMETER, [similar(str(processed_entry[index]), word) for word in ROTATION_WORDS]))) >= 1 and PROMPT_ENTITIES_PARAMETERS[index_entity_action][\"rotation\"] == None :\n",
    "            next_keyword_index_rotation = nextKeyWord(KEY_WORDS,processed_entry,index+1) \n",
    "            last_keyword_index_position = lastKeyWord(KEY_WORDS,processed_entry,index-1)\n",
    "            next_words = processed_entry[index+1:next_keyword_index_rotation]\n",
    "            last_words = processed_entry[last_keyword_index_position:index]\n",
    "            \n",
    "            isRotationNegative = False\n",
    "            rotation_list = re.findall(\"[-]*[0-9]+[.]*[0-9]*\", \" \".join([str(token) for token in next_words]))\n",
    "            isRotationNegative = re.search(\"counter.*clockwise\", \"\".join([str(token) for token in next_words]))\n",
    "            if not len(rotation_list) == 1 :\n",
    "                rotation_list_left = re.findall(\"[-]*[0-9]+[.]*[0-9]*\", \" \".join([str(token) for token in last_words]))\n",
    "                isRotationNegative = re.search(\"counter.*clockwise\", \"\".join([str(token) for token in next_words]))\n",
    "                if not len(position_list_left) == 1 :\n",
    "                    raise Exception(\"Wrong rotation format entered\")\n",
    "                else :\n",
    "                    rotation_list = rotation_list_left\n",
    "            rotationFinal = -float(rotation_list[0]) if isRotationNegative else float(rotation_list[0])\n",
    "            PROMPT_ENTITIES_PARAMETERS[index_entity_action][\"rotation\"] = rotationFinal\n",
    "\n",
    "            continue\n",
    "\n",
    "        # TODO : size\n",
    "\n",
    "        # TODO : template\n",
    "\n",
    "        # if all parameters needed are met\n",
    "        if not None in [PROMPT_ENTITIES_PARAMETERS[index_entity_action][parameter_name] for parameter_name in PROMPT_ENTITIES_PARAMETERS[index_entity_action].keys()] :\n",
    "            break\n",
    "\n",
    "    # TODO : hierarchy if other entity is specified\n",
    "    \n",
    "    print(PROMPT_ENTITIES_PARAMETERS[index_entity_action])\n",
    "\n",
    "    # create class instance (prefer if/else rather than match even though it's less clean)\n",
    "    parameters_dict = PROMPT_ENTITIES_PARAMETERS[index_entity_action]\n",
    "    final_parameter = \"\"\n",
    "\n",
    "    if PROMPT_ENTITIES[index_entity_action] == \"site\" :\n",
    "        site = wiki.Site(name = parameters_dict[\"name\"])\n",
    "        final_parameter += site.makeCLI()\n",
    "\n",
    "    if PROMPT_ENTITIES[index_entity_action] == \"building\" :\n",
    "        building = wiki.Building(name= parameters_dict[\"name\"], position= parameters_dict[\"position\"], rotation= parameters_dict[\"rotation\"], size = parameters_dict[\"size\"], template = parameters_dict[\"template\"])\n",
    "        boolean = building.isConform()\n",
    "        if not boolean :\n",
    "            raise Exception(\"Parameter comptability fail\")\n",
    "        DICTIO_CURRENT[\"building\"] = parameters_dict[\"name\"]\n",
    "        final_parameter += building.makeCLI()\n",
    "\n",
    "    # output formatting\n",
    "    final = \"\"\n",
    "    final += identifyAction(str(processed_entry[PROMPT_ENTITIES_RELATION[index_entity_action][1]]))[1]\n",
    "    final += wiki.ENTITIES[str(processed_entry[index_entity_action])]\n",
    "    final += \":\"\n",
    "    final += parentAll(str(processed_entry[index_entity_action]))\n",
    "    final += final_parameter\n",
    "\n",
    "    FINAL_INSTRUCTIONS.append(final)\n",
    "\n",
    "    return FINAL_INSTRUCTIONS"
   ]
  },
  {
   "cell_type": "code",
   "execution_count": 38,
   "metadata": {},
   "outputs": [
    {
     "name": "stdout",
     "output_type": "stream",
     "text": [
      "Prompt instructions :\n",
      "  - Prefer multiple easy short sentences\n",
      "  - Please write only one action per entry\n",
      "  - Please write explicitly the entities naming (e.g. building...)\n",
      "  - Keep in mind there is no memorization for the moment\n",
      "  - Please prefer writing in UPPERCASE the name given to an entity created (e.g. RACK1 )\n",
      "  - Please write numbers in digits\n"
     ]
    },
    {
     "name": "stdout",
     "output_type": "stream",
     "text": [
      "{'name': None, 'position': None, 'rotation': None, 'size': None, 'template': None}\n",
      "0\n"
     ]
    },
    {
     "name": "stderr",
     "output_type": "stream",
     "text": [
      "C:\\Users\\thoxy\\AppData\\Local\\Temp\\ipykernel_18044\\1522884082.py:3: UserWarning: [W008] Evaluating Token.similarity based on empty vectors.\n",
      "  return doc1[0].similarity(doc1[1])\n"
     ]
    },
    {
     "name": "stdout",
     "output_type": "stream",
     "text": [
      "3\n",
      "['0', '0']\n",
      "{'name': 'BATIMENT', 'position': [0.0, 0.0], 'rotation': 90.0, 'size': None, 'template': None}\n"
     ]
    },
    {
     "data": {
      "text/plain": [
       "['+bd:/P/IMT/BATIMENT@[0.0, 0.0]@90.0']"
      ]
     },
     "execution_count": 38,
     "metadata": {},
     "output_type": "execute_result"
    }
   ],
   "source": [
    "\"at 0 0 create a building named BATIMENT turned by 90 degrees\"\n",
    "# importlib.reload(wiki)\n",
    "main()"
   ]
  },
  {
   "cell_type": "code",
   "execution_count": 30,
   "metadata": {},
   "outputs": [
    {
     "data": {
      "text/html": [
       "<span class=\"tex2jax_ignore\"><svg xmlns=\"http://www.w3.org/2000/svg\" xmlns:xlink=\"http://www.w3.org/1999/xlink\" xml:lang=\"en\" id=\"250637b74c5c487e99281ac9ef2f29f7-0\" class=\"displacy\" width=\"2150\" height=\"399.5\" direction=\"ltr\" style=\"max-width: none; height: 399.5px; color: #000000; background: #ffffff; font-family: Arial; direction: ltr\">\n",
       "<text class=\"displacy-token\" fill=\"currentColor\" text-anchor=\"middle\" y=\"309.5\">\n",
       "    <tspan class=\"displacy-word\" fill=\"currentColor\" x=\"50\">at</tspan>\n",
       "    <tspan class=\"displacy-tag\" dy=\"2em\" fill=\"currentColor\" x=\"50\">ADP</tspan>\n",
       "</text>\n",
       "\n",
       "<text class=\"displacy-token\" fill=\"currentColor\" text-anchor=\"middle\" y=\"309.5\">\n",
       "    <tspan class=\"displacy-word\" fill=\"currentColor\" x=\"225\">0</tspan>\n",
       "    <tspan class=\"displacy-tag\" dy=\"2em\" fill=\"currentColor\" x=\"225\">NUM</tspan>\n",
       "</text>\n",
       "\n",
       "<text class=\"displacy-token\" fill=\"currentColor\" text-anchor=\"middle\" y=\"309.5\">\n",
       "    <tspan class=\"displacy-word\" fill=\"currentColor\" x=\"400\">0</tspan>\n",
       "    <tspan class=\"displacy-tag\" dy=\"2em\" fill=\"currentColor\" x=\"400\">NUM</tspan>\n",
       "</text>\n",
       "\n",
       "<text class=\"displacy-token\" fill=\"currentColor\" text-anchor=\"middle\" y=\"309.5\">\n",
       "    <tspan class=\"displacy-word\" fill=\"currentColor\" x=\"575\">create</tspan>\n",
       "    <tspan class=\"displacy-tag\" dy=\"2em\" fill=\"currentColor\" x=\"575\">VERB</tspan>\n",
       "</text>\n",
       "\n",
       "<text class=\"displacy-token\" fill=\"currentColor\" text-anchor=\"middle\" y=\"309.5\">\n",
       "    <tspan class=\"displacy-word\" fill=\"currentColor\" x=\"750\">a</tspan>\n",
       "    <tspan class=\"displacy-tag\" dy=\"2em\" fill=\"currentColor\" x=\"750\">DET</tspan>\n",
       "</text>\n",
       "\n",
       "<text class=\"displacy-token\" fill=\"currentColor\" text-anchor=\"middle\" y=\"309.5\">\n",
       "    <tspan class=\"displacy-word\" fill=\"currentColor\" x=\"925\">building</tspan>\n",
       "    <tspan class=\"displacy-tag\" dy=\"2em\" fill=\"currentColor\" x=\"925\">NOUN</tspan>\n",
       "</text>\n",
       "\n",
       "<text class=\"displacy-token\" fill=\"currentColor\" text-anchor=\"middle\" y=\"309.5\">\n",
       "    <tspan class=\"displacy-word\" fill=\"currentColor\" x=\"1100\">named</tspan>\n",
       "    <tspan class=\"displacy-tag\" dy=\"2em\" fill=\"currentColor\" x=\"1100\">VERB</tspan>\n",
       "</text>\n",
       "\n",
       "<text class=\"displacy-token\" fill=\"currentColor\" text-anchor=\"middle\" y=\"309.5\">\n",
       "    <tspan class=\"displacy-word\" fill=\"currentColor\" x=\"1275\">BATIMENT</tspan>\n",
       "    <tspan class=\"displacy-tag\" dy=\"2em\" fill=\"currentColor\" x=\"1275\">PROPN</tspan>\n",
       "</text>\n",
       "\n",
       "<text class=\"displacy-token\" fill=\"currentColor\" text-anchor=\"middle\" y=\"309.5\">\n",
       "    <tspan class=\"displacy-word\" fill=\"currentColor\" x=\"1450\">turned</tspan>\n",
       "    <tspan class=\"displacy-tag\" dy=\"2em\" fill=\"currentColor\" x=\"1450\">VERB</tspan>\n",
       "</text>\n",
       "\n",
       "<text class=\"displacy-token\" fill=\"currentColor\" text-anchor=\"middle\" y=\"309.5\">\n",
       "    <tspan class=\"displacy-word\" fill=\"currentColor\" x=\"1625\">by</tspan>\n",
       "    <tspan class=\"displacy-tag\" dy=\"2em\" fill=\"currentColor\" x=\"1625\">ADP</tspan>\n",
       "</text>\n",
       "\n",
       "<text class=\"displacy-token\" fill=\"currentColor\" text-anchor=\"middle\" y=\"309.5\">\n",
       "    <tspan class=\"displacy-word\" fill=\"currentColor\" x=\"1800\">90</tspan>\n",
       "    <tspan class=\"displacy-tag\" dy=\"2em\" fill=\"currentColor\" x=\"1800\">NUM</tspan>\n",
       "</text>\n",
       "\n",
       "<text class=\"displacy-token\" fill=\"currentColor\" text-anchor=\"middle\" y=\"309.5\">\n",
       "    <tspan class=\"displacy-word\" fill=\"currentColor\" x=\"1975\">degrees</tspan>\n",
       "    <tspan class=\"displacy-tag\" dy=\"2em\" fill=\"currentColor\" x=\"1975\">NOUN</tspan>\n",
       "</text>\n",
       "\n",
       "<g class=\"displacy-arrow\">\n",
       "    <path class=\"displacy-arc\" id=\"arrow-250637b74c5c487e99281ac9ef2f29f7-0-0\" stroke-width=\"2px\" d=\"M70,264.5 C70,2.0 575.0,2.0 575.0,264.5\" fill=\"none\" stroke=\"currentColor\"/>\n",
       "    <text dy=\"1.25em\" style=\"font-size: 0.8em; letter-spacing: 1px\">\n",
       "        <textPath xlink:href=\"#arrow-250637b74c5c487e99281ac9ef2f29f7-0-0\" class=\"displacy-label\" startOffset=\"50%\" side=\"left\" fill=\"currentColor\" text-anchor=\"middle\">prep</textPath>\n",
       "    </text>\n",
       "    <path class=\"displacy-arrowhead\" d=\"M70,266.5 L62,254.5 78,254.5\" fill=\"currentColor\"/>\n",
       "</g>\n",
       "\n",
       "<g class=\"displacy-arrow\">\n",
       "    <path class=\"displacy-arc\" id=\"arrow-250637b74c5c487e99281ac9ef2f29f7-0-1\" stroke-width=\"2px\" d=\"M70,264.5 C70,177.0 215.0,177.0 215.0,264.5\" fill=\"none\" stroke=\"currentColor\"/>\n",
       "    <text dy=\"1.25em\" style=\"font-size: 0.8em; letter-spacing: 1px\">\n",
       "        <textPath xlink:href=\"#arrow-250637b74c5c487e99281ac9ef2f29f7-0-1\" class=\"displacy-label\" startOffset=\"50%\" side=\"left\" fill=\"currentColor\" text-anchor=\"middle\">pobj</textPath>\n",
       "    </text>\n",
       "    <path class=\"displacy-arrowhead\" d=\"M215.0,266.5 L223.0,254.5 207.0,254.5\" fill=\"currentColor\"/>\n",
       "</g>\n",
       "\n",
       "<g class=\"displacy-arrow\">\n",
       "    <path class=\"displacy-arc\" id=\"arrow-250637b74c5c487e99281ac9ef2f29f7-0-2\" stroke-width=\"2px\" d=\"M70,264.5 C70,89.5 395.0,89.5 395.0,264.5\" fill=\"none\" stroke=\"currentColor\"/>\n",
       "    <text dy=\"1.25em\" style=\"font-size: 0.8em; letter-spacing: 1px\">\n",
       "        <textPath xlink:href=\"#arrow-250637b74c5c487e99281ac9ef2f29f7-0-2\" class=\"displacy-label\" startOffset=\"50%\" side=\"left\" fill=\"currentColor\" text-anchor=\"middle\">pobj</textPath>\n",
       "    </text>\n",
       "    <path class=\"displacy-arrowhead\" d=\"M395.0,266.5 L403.0,254.5 387.0,254.5\" fill=\"currentColor\"/>\n",
       "</g>\n",
       "\n",
       "<g class=\"displacy-arrow\">\n",
       "    <path class=\"displacy-arc\" id=\"arrow-250637b74c5c487e99281ac9ef2f29f7-0-3\" stroke-width=\"2px\" d=\"M770,264.5 C770,177.0 915.0,177.0 915.0,264.5\" fill=\"none\" stroke=\"currentColor\"/>\n",
       "    <text dy=\"1.25em\" style=\"font-size: 0.8em; letter-spacing: 1px\">\n",
       "        <textPath xlink:href=\"#arrow-250637b74c5c487e99281ac9ef2f29f7-0-3\" class=\"displacy-label\" startOffset=\"50%\" side=\"left\" fill=\"currentColor\" text-anchor=\"middle\">det</textPath>\n",
       "    </text>\n",
       "    <path class=\"displacy-arrowhead\" d=\"M770,266.5 L762,254.5 778,254.5\" fill=\"currentColor\"/>\n",
       "</g>\n",
       "\n",
       "<g class=\"displacy-arrow\">\n",
       "    <path class=\"displacy-arc\" id=\"arrow-250637b74c5c487e99281ac9ef2f29f7-0-4\" stroke-width=\"2px\" d=\"M595,264.5 C595,89.5 920.0,89.5 920.0,264.5\" fill=\"none\" stroke=\"currentColor\"/>\n",
       "    <text dy=\"1.25em\" style=\"font-size: 0.8em; letter-spacing: 1px\">\n",
       "        <textPath xlink:href=\"#arrow-250637b74c5c487e99281ac9ef2f29f7-0-4\" class=\"displacy-label\" startOffset=\"50%\" side=\"left\" fill=\"currentColor\" text-anchor=\"middle\">dobj</textPath>\n",
       "    </text>\n",
       "    <path class=\"displacy-arrowhead\" d=\"M920.0,266.5 L928.0,254.5 912.0,254.5\" fill=\"currentColor\"/>\n",
       "</g>\n",
       "\n",
       "<g class=\"displacy-arrow\">\n",
       "    <path class=\"displacy-arc\" id=\"arrow-250637b74c5c487e99281ac9ef2f29f7-0-5\" stroke-width=\"2px\" d=\"M945,264.5 C945,177.0 1090.0,177.0 1090.0,264.5\" fill=\"none\" stroke=\"currentColor\"/>\n",
       "    <text dy=\"1.25em\" style=\"font-size: 0.8em; letter-spacing: 1px\">\n",
       "        <textPath xlink:href=\"#arrow-250637b74c5c487e99281ac9ef2f29f7-0-5\" class=\"displacy-label\" startOffset=\"50%\" side=\"left\" fill=\"currentColor\" text-anchor=\"middle\">acl</textPath>\n",
       "    </text>\n",
       "    <path class=\"displacy-arrowhead\" d=\"M1090.0,266.5 L1098.0,254.5 1082.0,254.5\" fill=\"currentColor\"/>\n",
       "</g>\n",
       "\n",
       "<g class=\"displacy-arrow\">\n",
       "    <path class=\"displacy-arc\" id=\"arrow-250637b74c5c487e99281ac9ef2f29f7-0-6\" stroke-width=\"2px\" d=\"M1120,264.5 C1120,177.0 1265.0,177.0 1265.0,264.5\" fill=\"none\" stroke=\"currentColor\"/>\n",
       "    <text dy=\"1.25em\" style=\"font-size: 0.8em; letter-spacing: 1px\">\n",
       "        <textPath xlink:href=\"#arrow-250637b74c5c487e99281ac9ef2f29f7-0-6\" class=\"displacy-label\" startOffset=\"50%\" side=\"left\" fill=\"currentColor\" text-anchor=\"middle\">oprd</textPath>\n",
       "    </text>\n",
       "    <path class=\"displacy-arrowhead\" d=\"M1265.0,266.5 L1273.0,254.5 1257.0,254.5\" fill=\"currentColor\"/>\n",
       "</g>\n",
       "\n",
       "<g class=\"displacy-arrow\">\n",
       "    <path class=\"displacy-arc\" id=\"arrow-250637b74c5c487e99281ac9ef2f29f7-0-7\" stroke-width=\"2px\" d=\"M945,264.5 C945,89.5 1445.0,89.5 1445.0,264.5\" fill=\"none\" stroke=\"currentColor\"/>\n",
       "    <text dy=\"1.25em\" style=\"font-size: 0.8em; letter-spacing: 1px\">\n",
       "        <textPath xlink:href=\"#arrow-250637b74c5c487e99281ac9ef2f29f7-0-7\" class=\"displacy-label\" startOffset=\"50%\" side=\"left\" fill=\"currentColor\" text-anchor=\"middle\">acl</textPath>\n",
       "    </text>\n",
       "    <path class=\"displacy-arrowhead\" d=\"M1445.0,266.5 L1453.0,254.5 1437.0,254.5\" fill=\"currentColor\"/>\n",
       "</g>\n",
       "\n",
       "<g class=\"displacy-arrow\">\n",
       "    <path class=\"displacy-arc\" id=\"arrow-250637b74c5c487e99281ac9ef2f29f7-0-8\" stroke-width=\"2px\" d=\"M1470,264.5 C1470,177.0 1615.0,177.0 1615.0,264.5\" fill=\"none\" stroke=\"currentColor\"/>\n",
       "    <text dy=\"1.25em\" style=\"font-size: 0.8em; letter-spacing: 1px\">\n",
       "        <textPath xlink:href=\"#arrow-250637b74c5c487e99281ac9ef2f29f7-0-8\" class=\"displacy-label\" startOffset=\"50%\" side=\"left\" fill=\"currentColor\" text-anchor=\"middle\">prep</textPath>\n",
       "    </text>\n",
       "    <path class=\"displacy-arrowhead\" d=\"M1615.0,266.5 L1623.0,254.5 1607.0,254.5\" fill=\"currentColor\"/>\n",
       "</g>\n",
       "\n",
       "<g class=\"displacy-arrow\">\n",
       "    <path class=\"displacy-arc\" id=\"arrow-250637b74c5c487e99281ac9ef2f29f7-0-9\" stroke-width=\"2px\" d=\"M1820,264.5 C1820,177.0 1965.0,177.0 1965.0,264.5\" fill=\"none\" stroke=\"currentColor\"/>\n",
       "    <text dy=\"1.25em\" style=\"font-size: 0.8em; letter-spacing: 1px\">\n",
       "        <textPath xlink:href=\"#arrow-250637b74c5c487e99281ac9ef2f29f7-0-9\" class=\"displacy-label\" startOffset=\"50%\" side=\"left\" fill=\"currentColor\" text-anchor=\"middle\">nummod</textPath>\n",
       "    </text>\n",
       "    <path class=\"displacy-arrowhead\" d=\"M1820,266.5 L1812,254.5 1828,254.5\" fill=\"currentColor\"/>\n",
       "</g>\n",
       "\n",
       "<g class=\"displacy-arrow\">\n",
       "    <path class=\"displacy-arc\" id=\"arrow-250637b74c5c487e99281ac9ef2f29f7-0-10\" stroke-width=\"2px\" d=\"M1645,264.5 C1645,89.5 1970.0,89.5 1970.0,264.5\" fill=\"none\" stroke=\"currentColor\"/>\n",
       "    <text dy=\"1.25em\" style=\"font-size: 0.8em; letter-spacing: 1px\">\n",
       "        <textPath xlink:href=\"#arrow-250637b74c5c487e99281ac9ef2f29f7-0-10\" class=\"displacy-label\" startOffset=\"50%\" side=\"left\" fill=\"currentColor\" text-anchor=\"middle\">pobj</textPath>\n",
       "    </text>\n",
       "    <path class=\"displacy-arrowhead\" d=\"M1970.0,266.5 L1978.0,254.5 1962.0,254.5\" fill=\"currentColor\"/>\n",
       "</g>\n",
       "</svg></span>"
      ],
      "text/plain": [
       "<IPython.core.display.HTML object>"
      ]
     },
     "metadata": {},
     "output_type": "display_data"
    }
   ],
   "source": [
    "test = nlp(\"at 0 0 create a building named BATIMENT turned by 90 degrees\")\n",
    "# test_formatted = nlp(\" \".join([word.lemma_ for word in test]))\n",
    "spacy.displacy.render(test, style=\"dep\")"
   ]
  },
  {
   "cell_type": "code",
   "execution_count": null,
   "metadata": {},
   "outputs": [
    {
     "data": {
      "text/plain": [
       "['-0.', '0']"
      ]
     },
     "execution_count": 16,
     "metadata": {},
     "output_type": "execute_result"
    }
   ],
   "source": [
    "re.findall(\"[-]*[0-9]+[.]*[0-9]*\", \"x -0. y 0\")"
   ]
  },
  {
   "cell_type": "code",
   "execution_count": null,
   "metadata": {},
   "outputs": [
    {
     "data": {
      "text/plain": [
       "[]"
      ]
     },
     "execution_count": 40,
     "metadata": {},
     "output_type": "execute_result"
    }
   ],
   "source": [
    "liste = [1,2,3,4]\n",
    "liste[0:3:-1]"
   ]
  },
  {
   "cell_type": "code",
   "execution_count": null,
   "metadata": {},
   "outputs": [],
   "source": []
  }
 ],
 "metadata": {
  "kernelspec": {
   "display_name": "Python 3",
   "language": "python",
   "name": "python3"
  },
  "language_info": {
   "codemirror_mode": {
    "name": "ipython",
    "version": 3
   },
   "file_extension": ".py",
   "mimetype": "text/x-python",
   "name": "python",
   "nbconvert_exporter": "python",
   "pygments_lexer": "ipython3",
   "version": "3.10.11"
  }
 },
 "nbformat": 4,
 "nbformat_minor": 2
}
