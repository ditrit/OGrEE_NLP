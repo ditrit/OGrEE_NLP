{
 "cells": [
  {
   "cell_type": "code",
   "execution_count": null,
   "metadata": {},
   "outputs": [],
   "source": [
    "import spacy\n",
    "nlp = spacy.load(\"en_core_web_lg\")\n",
    "\n",
    "import getters_parameters as get\n",
    "import importlib\n",
    "importlib.reload(get)"
   ]
  },
  {
   "cell_type": "code",
   "execution_count": null,
   "metadata": {},
   "outputs": [],
   "source": [
    "importlib.reload(get)\n",
    "\n",
    "testPosition1 = nlp(\"create the building named BATIMENT with position 50.4 10\")\n",
    "testPosition2 = nlp(\"insert a device in the rack R1 at position 33\")\n",
    "testPosition3 = nlp(\"create a rack with position 10 10 10\")\n",
    "\n",
    "# get.position(testPosition1, 6, \"building\", 3, 9)\n",
    "# get.position(testPosition2, 8, \"device\", 5, 9)\n",
    "get.position(testPosition3, 4, \"rack\", 2, 7)"
   ]
  },
  {
   "cell_type": "code",
   "execution_count": null,
   "metadata": {},
   "outputs": [],
   "source": [
    "importlib.reload(get)\n",
    "\n",
    "testRotation1 = nlp(\"create the building named BATIMENT turned -90 degrees\")\n",
    "testRotation2 = nlp(\"create the building named BATIMENT turned 90 degrees counterclockwise\")\n",
    "testRotation3 = nlp(\"create the rack named R1 with front rotation\")\n",
    "testRotation4 = nlp(\"create the rack named R1 with 80 80 80 for rotation\")\n",
    "testRotation5 = nlp(\"create a rack R1 with rotation 80 80 80\")\n",
    "\n",
    "# get.rotation(testRotation1, 5, \"building\", 3, 7)\n",
    "# get.rotation(testRotation2, 5, \"building\", 3, 8)\n",
    "# get.rotation(testRotation3, 7, \"rack\", 3, 6)\n",
    "# get.rotation(testRotation4, 10, \"rack\", 3, 10)\n",
    "get.rotation(testRotation5, 5, \"rack\", 2, 8)"
   ]
  },
  {
   "cell_type": "code",
   "execution_count": null,
   "metadata": {},
   "outputs": [],
   "source": [
    "spacy.displacy.render(testPosition3, style=\"dep\")"
   ]
  },
  {
   "cell_type": "code",
   "execution_count": null,
   "metadata": {},
   "outputs": [],
   "source": [
    "[1,2,3][2:3]"
   ]
  },
  {
   "cell_type": "code",
   "execution_count": null,
   "metadata": {},
   "outputs": [],
   "source": []
  }
 ],
 "metadata": {
  "kernelspec": {
   "display_name": "Python 3",
   "language": "python",
   "name": "python3"
  },
  "language_info": {
   "codemirror_mode": {
    "name": "ipython",
    "version": 3
   },
   "file_extension": ".py",
   "mimetype": "text/x-python",
   "name": "python",
   "nbconvert_exporter": "python",
   "pygments_lexer": "ipython3",
   "version": "3.10.11"
  }
 },
 "nbformat": 4,
 "nbformat_minor": 2
}
