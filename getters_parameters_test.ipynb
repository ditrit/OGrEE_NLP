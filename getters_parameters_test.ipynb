{
 "cells": [
  {
   "cell_type": "code",
   "execution_count": null,
   "metadata": {},
   "outputs": [],
   "source": [
    "import spacy\n",
    "nlp = spacy.load(\"en_core_web_lg\")\n",
    "\n",
    "import getters_parameters as get\n",
    "import importlib"
   ]
  },
  {
   "cell_type": "code",
   "execution_count": null,
   "metadata": {},
   "outputs": [],
   "source": [
    "importlib.reload(get)\n",
    "\n",
    "testTemplate1 = nlp(\"create a room R1 with the small-room template\")\n",
    "testTemplate2 = nlp(\"create a device D1 with template named ibm-ns1200\")\n",
    "testTemplate3 = nlp(\"create a device D1 with the template IBM ns1200\")\n",
    "\n",
    "get.template(testTemplate1, 9, \"room\", 2, 10, [9])\n",
    "# get.template(testTemplate2, 5, \"device\", 2, 10, [5,6])\n",
    "# get.template(testTemplate3, 6, \"device\", 2, 9, [6])"
   ]
  },
  {
   "cell_type": "code",
   "execution_count": null,
   "metadata": {},
   "outputs": [],
   "source": [
    "importlib.reload(get)\n",
    "\n",
    "testPosition1 = nlp(\"create the building named BATIMENT with position 50.4 10\")\n",
    "testPosition2 = nlp(\"insert a device in the rack R1 at position 33\")\n",
    "testPosition3 = nlp(\"create a rack with position 10 10 10\")\n",
    "testPosition4 = nlp(\"in the room R1, add a pillar centered in 10 10\")\n",
    "\n",
    "# get.position(testPosition1, 6, \"building\", 3, 9)\n",
    "# get.position(testPosition2, 8, \"device\", 5, 10)\n",
    "# get.position(testPosition3, 4, \"rack\", 2, 8)\n",
    "get.position(testPosition4, 8, \"pillar\", 7, 12)"
   ]
  },
  {
   "cell_type": "code",
   "execution_count": null,
   "metadata": {},
   "outputs": [],
   "source": [
    "importlib.reload(get)\n",
    "\n",
    "testRotation1 = nlp(\"create the building named BATIMENT turned -90 degrees\")\n",
    "testRotation2 = nlp(\"create the building named BATIMENT turned 90 degrees counterclockwise\")\n",
    "testRotation3 = nlp(\"create the rack named R1 with front rotation\")\n",
    "testRotation4 = nlp(\"create the rack named R1 with 80 80 80 for rotation\")\n",
    "testRotation5 = nlp(\"create a rack R1 with rotation 80 80 80\")\n",
    "\n",
    "get.rotation(testRotation1, 5, \"building\", 3, 8)\n",
    "# get.rotation(testRotation2, 5, \"building\", 3, 9)\n",
    "# get.rotation(testRotation3, 7, \"rack\", 3, 7)\n",
    "# get.rotation(testRotation4, 10, \"rack\", 3, 11)\n",
    "# get.rotation(testRotation5, 5, \"rack\", 2, 9)"
   ]
  },
  {
   "cell_type": "code",
   "execution_count": null,
   "metadata": {},
   "outputs": [],
   "source": [
    "importlib.reload(get)\n",
    "\n",
    "testSize1 = nlp(\"create the building named BATIMENT with dimensions 30 30 30\")\n",
    "testSize2 = nlp(\"create a device D1 with 3 units height\")\n",
    "testSize3 = nlp(\"create a pillar with sizeXY equal to 3 4\")\n",
    "\n",
    "# get.size(testSize1, 6, \"building\", 3, 10)\n",
    "# get.size(testSize2, 7, \"device\", 2, 8)\n",
    "get.size(testSize3, 4, \"pillar\", 2, 9)"
   ]
  },
  {
   "cell_type": "code",
   "execution_count": null,
   "metadata": {},
   "outputs": [],
   "source": [
    "importlib.reload(get)\n",
    "\n",
    "testAxisOrientation1 = nlp(\"create a room R1 with orientation +x-y\")\n",
    "testAxisOrientation2 = nlp(\"make the room R1 with -x axis\")\n",
    "\n",
    "# get.axisOrientation(testAxisOrientation1, 5, \"room\", 2, 10)\n",
    "get.axisOrientation(testAxisOrientation2, 6, \"room\", 2, 7)"
   ]
  },
  {
   "cell_type": "code",
   "execution_count": null,
   "metadata": {},
   "outputs": [],
   "source": [
    "importlib.reload(get)\n",
    "\n",
    "testSlot1 = nlp(\"create a device D1 in the blade10 slot\")\n",
    "testSlot2 = nlp(\"create a device D1 in slot named blade55\")\n",
    "testSlot3 = nlp(\"create a device D1 in the spot ns1200\")\n",
    "\n",
    "# get.slot(testSlot1, 7, \"device\", 2, 8, [7])\n",
    "# get.slot(testSlot2, 5, \"device\", 2, 8)\n",
    "get.slot(testSlot3, 6, \"device\", 2, 8, [6])"
   ]
  },
  {
   "cell_type": "code",
   "execution_count": null,
   "metadata": {},
   "outputs": [],
   "source": [
    "importlib.reload(get)\n",
    "\n",
    "testUnit1 = nlp(\"create a room with meters as floorUnit\")\n",
    "testUnit2 = nlp(\"create a rack with dimensions 30 30 30 in f\")\n",
    "\n",
    "# get.unit(testUnit1, 4, \"room\", 2, 7)\n",
    "get.unit(testUnit2, 9, \"rack\", 4, 10)"
   ]
  },
  {
   "cell_type": "code",
   "execution_count": null,
   "metadata": {},
   "outputs": [],
   "source": [
    "spacy.displacy.render(testTemplate1, style=\"dep\")"
   ]
  },
  {
   "cell_type": "code",
   "execution_count": null,
   "metadata": {},
   "outputs": [],
   "source": [
    "# len(nlp(\"create a room called R1 with imb-ns1200 template\")[4].ancestors)\n",
    "for token in nlp(\"create a room R1 with the small_room template\") :\n",
    "    print(token.text, token.pos_)"
   ]
  },
  {
   "cell_type": "code",
   "execution_count": null,
   "metadata": {},
   "outputs": [],
   "source": []
  }
 ],
 "metadata": {
  "kernelspec": {
   "display_name": "Python 3",
   "language": "python",
   "name": "python3"
  },
  "language_info": {
   "codemirror_mode": {
    "name": "ipython",
    "version": 3
   },
   "file_extension": ".py",
   "mimetype": "text/x-python",
   "name": "python",
   "nbconvert_exporter": "python",
   "pygments_lexer": "ipython3",
   "version": "3.10.11"
  }
 },
 "nbformat": 4,
 "nbformat_minor": 2
}
