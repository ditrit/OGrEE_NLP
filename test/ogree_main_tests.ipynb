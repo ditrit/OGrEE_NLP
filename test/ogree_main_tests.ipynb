{
 "cells": [
  {
   "cell_type": "code",
   "execution_count": null,
   "metadata": {},
   "outputs": [],
   "source": [
    "import spacy\n",
    "nlp = spacy.load(\"en_core_web_lg\")\n",
    "import importlib\n",
    "\n",
    "import sys\n",
    "sys.path.append(\"..\")\n",
    "sys.path.append(\"../items\")\n",
    "import ogree_main as main\n",
    "import scrapping\n",
    "import tools as tools"
   ]
  },
  {
   "cell_type": "code",
   "execution_count": null,
   "metadata": {},
   "outputs": [],
   "source": [
    "\"set the name of the rack R1 to R2\"\n",
    "\"create a rack A1 with dimension 5 5 5 in meters in the room R2\"\n",
    "\"create the size 5 5 5 for the building B1 in the site S1 and the size 4 6 7 for the building B2\"\n",
    "\"set the codepostal of the room R1 to 44000\"\n",
    "\"create the device DEV1 in the device /P/BASIC/A/R1/A02/chassis01\"\n",
    "\"create the building named BATIMENT in the site /P/BASIC with position 10 10, the dimension 50.4 40 60, turned by 90 degrees and with the template called intel640\"\n",
    "\"set the position 0 for the device bladeA in the device chassis01 in the room /A/R1\" # problème résolu : bladeA et chassis01 ne sont pas détectés mais 0 est détecté comme un nom\n",
    "\"set the name of the rack /P/BASIC/A/R1 to R4\"\n",
    "\"create a room in the building A with the template room-square1\"\n",
    "\n",
    "\"pack 3 racks from upper left corner on tiles with clearance\" \n",
    "\"pack double door 180 cm on lower wall 45 cm from left\" \n",
    "\"pack vertical plain separator as SEP1 45 cm from left\" \n",
    "\"pack horizontal wireframe separator as SEP1 from right up to separator SEP1\""
   ]
  },
  {
   "cell_type": "code",
   "execution_count": null,
   "metadata": {},
   "outputs": [],
   "source": [
    "testNlp1 = nlp(\"create the building named BATIMENT with the dimension 50.4 40 60, turned by 90 degrees and with the template called intel640\")\n",
    "testNlp2 = nlp(\"make a room called Nowhere in the building IMT next to the building named Centrale\")\n",
    "testNlp3 = nlp(\"set the complexity of the room R1 to easy\")\n",
    "testNlp4 = nlp(\"in the site IMT, create a room with R1 as name\")\n",
    "testNlp5 = nlp(\"put a rack in a room named A2 which is called R1 with dimension 3 4 2 rotated by 45 45 45\")\n",
    "testNlp6 = nlp(\"create the parameter codepostal for the room R1 with value 01170\")\n",
    "testNlp7 = nlp(\"put a rack called R1 in a room named A2 with dimension 3 4 2 rotated by 45 45 45\")\n",
    "testNlp8 = nlp(\"in the site S1, in the building B1, create a room R1\")\n",
    "testNlp9 = nlp(\"put a rack called R1 in a room with dimension 3 4 2 rotated by 45 45 45\")\n",
    "testNlp10 = nlp(\"put a rack in a room named A2 which is called R1 at 0 0 with dimension 3 4 2 rotated by 45 45 45 in the building B1 in the site S1\")\n",
    "testNlp11 = nlp(\"create a rack A1 with dimension 5m 5m 5m in the room R2\")\n",
    "testNlp12 = nlp(\"create the size 5 5 5 for the building B1 in the site S1 and the size 4 6 7 for the building B2\")\n",
    "testNlp13 = nlp(\"create a room called R1 with imb-ns1200 template\")\n",
    "testNlp14 = nlp(\"create the device DEV1 in the device chassis01\")\n",
    "testNlp15 = nlp(\"set the position 0 for the device bladeA in the chassis01 in the room /A/R1\")\n",
    "testNlp16 = nlp(\"set the position 0.0 for the device BLADEA in the device CHASSIS01 in the room /A/R1\")"
   ]
  },
  {
   "cell_type": "code",
   "execution_count": null,
   "metadata": {},
   "outputs": [],
   "source": [
    "spacy.displacy.render(nlp(\"set the position 0 for the bladeA in the chassis01 in the /A/R1\"), style=\"dep\")"
   ]
  },
  {
   "cell_type": "code",
   "execution_count": null,
   "metadata": {},
   "outputs": [],
   "source": [
    "importlib.reload(main)\n",
    "importlib.reload(scrapping)\n",
    "importlib.reload(tools)"
   ]
  },
  {
   "cell_type": "code",
   "execution_count": null,
   "metadata": {},
   "outputs": [],
   "source": [
    "\"create a rack A1 with dimension 5m 5cm 5 in the room R2\"\n",
    "\"create the building named BATIMENT turned by 90 degrees and with the template called intel640\"\n",
    "\"create building BATIMENT turned by 90 degrees from template intel640\"\n",
    "\n",
    "\"set the position 0 for the bladeA in the chassis01 in /A/R1\"\n",
    "main.NL_to_OCLI(\"OCLI_files/DEMO_BASIC.ocli\")"
   ]
  },
  {
   "cell_type": "code",
   "execution_count": null,
   "metadata": {},
   "outputs": [],
   "source": [
    "nlp(\"/P\")[0].is_upper"
   ]
  },
  {
   "cell_type": "code",
   "execution_count": null,
   "metadata": {},
   "outputs": [],
   "source": [
    "for token in nlp(\"in /P/BASIC/A, create a room called R5 at 0 0 rotated 90 with imb-ns1200 template\") :\n",
    "    print(token)"
   ]
  },
  {
   "cell_type": "code",
   "execution_count": null,
   "metadata": {},
   "outputs": [],
   "source": []
  }
 ],
 "metadata": {
  "kernelspec": {
   "display_name": "Python 3",
   "language": "python",
   "name": "python3"
  },
  "language_info": {
   "codemirror_mode": {
    "name": "ipython",
    "version": 3
   },
   "file_extension": ".py",
   "mimetype": "text/x-python",
   "name": "python",
   "nbconvert_exporter": "python",
   "pygments_lexer": "ipython3",
   "version": "3.10.11"
  }
 },
 "nbformat": 4,
 "nbformat_minor": 2
}
